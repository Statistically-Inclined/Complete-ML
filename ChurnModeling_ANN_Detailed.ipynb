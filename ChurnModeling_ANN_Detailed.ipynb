{
  "nbformat": 4,
  "nbformat_minor": 0,
  "metadata": {
    "colab": {
      "provenance": [],
      "collapsed_sections": [],
      "authorship_tag": "ABX9TyPewlIOhaUub//9u5uAbsU7",
      "include_colab_link": true
    },
    "kernelspec": {
      "name": "python3",
      "display_name": "Python 3"
    },
    "language_info": {
      "name": "python"
    }
  },
  "cells": [
    {
      "cell_type": "markdown",
      "metadata": {
        "id": "view-in-github",
        "colab_type": "text"
      },
      "source": [
        "<a href=\"https://colab.research.google.com/github/Statistically-Inclined/Complete-ML/blob/main/ChurnModeling_ANN_Detailed.ipynb\" target=\"_parent\"><img src=\"https://colab.research.google.com/assets/colab-badge.svg\" alt=\"Open In Colab\"/></a>"
      ]
    },
    {
      "cell_type": "code",
      "execution_count": null,
      "metadata": {
        "id": "jG5MRAENDgF6"
      },
      "outputs": [],
      "source": [
        "import numpy as np\n",
        "import pandas as pd\n",
        "import seaborn as sns\n",
        "import matplotlib.pyplot as plt\n",
        "\n",
        "import warnings\n",
        "warnings.filterwarnings('ignore')"
      ]
    },
    {
      "cell_type": "code",
      "source": [
        "df_churn = pd.read_csv('Churn_Modelling.csv')\n",
        "df = df_churn.copy()"
      ],
      "metadata": {
        "id": "M8I4RknyJpQQ"
      },
      "execution_count": null,
      "outputs": []
    },
    {
      "cell_type": "code",
      "source": [
        "df.head()"
      ],
      "metadata": {
        "colab": {
          "base_uri": "https://localhost:8080/",
          "height": 206
        },
        "id": "VNg9fCiZKCIX",
        "outputId": "861dd49d-5836-4009-fdff-7aec6e8fe1db"
      },
      "execution_count": null,
      "outputs": [
        {
          "output_type": "execute_result",
          "data": {
            "text/plain": [
              "   RowNumber  CustomerId   Surname  CreditScore Geography  Gender  Age  \\\n",
              "0          1    15634602  Hargrave          619    France  Female   42   \n",
              "1          2    15647311      Hill          608     Spain  Female   41   \n",
              "2          3    15619304      Onio          502    France  Female   42   \n",
              "3          4    15701354      Boni          699    France  Female   39   \n",
              "4          5    15737888  Mitchell          850     Spain  Female   43   \n",
              "\n",
              "   Tenure    Balance  NumOfProducts  HasCrCard  IsActiveMember  \\\n",
              "0       2       0.00              1          1               1   \n",
              "1       1   83807.86              1          0               1   \n",
              "2       8  159660.80              3          1               0   \n",
              "3       1       0.00              2          0               0   \n",
              "4       2  125510.82              1          1               1   \n",
              "\n",
              "   EstimatedSalary  Exited  \n",
              "0        101348.88       1  \n",
              "1        112542.58       0  \n",
              "2        113931.57       1  \n",
              "3         93826.63       0  \n",
              "4         79084.10       0  "
            ],
            "text/html": [
              "\n",
              "  <div id=\"df-c5cb0354-d9c3-4063-b9bb-62365387b843\">\n",
              "    <div class=\"colab-df-container\">\n",
              "      <div>\n",
              "<style scoped>\n",
              "    .dataframe tbody tr th:only-of-type {\n",
              "        vertical-align: middle;\n",
              "    }\n",
              "\n",
              "    .dataframe tbody tr th {\n",
              "        vertical-align: top;\n",
              "    }\n",
              "\n",
              "    .dataframe thead th {\n",
              "        text-align: right;\n",
              "    }\n",
              "</style>\n",
              "<table border=\"1\" class=\"dataframe\">\n",
              "  <thead>\n",
              "    <tr style=\"text-align: right;\">\n",
              "      <th></th>\n",
              "      <th>RowNumber</th>\n",
              "      <th>CustomerId</th>\n",
              "      <th>Surname</th>\n",
              "      <th>CreditScore</th>\n",
              "      <th>Geography</th>\n",
              "      <th>Gender</th>\n",
              "      <th>Age</th>\n",
              "      <th>Tenure</th>\n",
              "      <th>Balance</th>\n",
              "      <th>NumOfProducts</th>\n",
              "      <th>HasCrCard</th>\n",
              "      <th>IsActiveMember</th>\n",
              "      <th>EstimatedSalary</th>\n",
              "      <th>Exited</th>\n",
              "    </tr>\n",
              "  </thead>\n",
              "  <tbody>\n",
              "    <tr>\n",
              "      <th>0</th>\n",
              "      <td>1</td>\n",
              "      <td>15634602</td>\n",
              "      <td>Hargrave</td>\n",
              "      <td>619</td>\n",
              "      <td>France</td>\n",
              "      <td>Female</td>\n",
              "      <td>42</td>\n",
              "      <td>2</td>\n",
              "      <td>0.00</td>\n",
              "      <td>1</td>\n",
              "      <td>1</td>\n",
              "      <td>1</td>\n",
              "      <td>101348.88</td>\n",
              "      <td>1</td>\n",
              "    </tr>\n",
              "    <tr>\n",
              "      <th>1</th>\n",
              "      <td>2</td>\n",
              "      <td>15647311</td>\n",
              "      <td>Hill</td>\n",
              "      <td>608</td>\n",
              "      <td>Spain</td>\n",
              "      <td>Female</td>\n",
              "      <td>41</td>\n",
              "      <td>1</td>\n",
              "      <td>83807.86</td>\n",
              "      <td>1</td>\n",
              "      <td>0</td>\n",
              "      <td>1</td>\n",
              "      <td>112542.58</td>\n",
              "      <td>0</td>\n",
              "    </tr>\n",
              "    <tr>\n",
              "      <th>2</th>\n",
              "      <td>3</td>\n",
              "      <td>15619304</td>\n",
              "      <td>Onio</td>\n",
              "      <td>502</td>\n",
              "      <td>France</td>\n",
              "      <td>Female</td>\n",
              "      <td>42</td>\n",
              "      <td>8</td>\n",
              "      <td>159660.80</td>\n",
              "      <td>3</td>\n",
              "      <td>1</td>\n",
              "      <td>0</td>\n",
              "      <td>113931.57</td>\n",
              "      <td>1</td>\n",
              "    </tr>\n",
              "    <tr>\n",
              "      <th>3</th>\n",
              "      <td>4</td>\n",
              "      <td>15701354</td>\n",
              "      <td>Boni</td>\n",
              "      <td>699</td>\n",
              "      <td>France</td>\n",
              "      <td>Female</td>\n",
              "      <td>39</td>\n",
              "      <td>1</td>\n",
              "      <td>0.00</td>\n",
              "      <td>2</td>\n",
              "      <td>0</td>\n",
              "      <td>0</td>\n",
              "      <td>93826.63</td>\n",
              "      <td>0</td>\n",
              "    </tr>\n",
              "    <tr>\n",
              "      <th>4</th>\n",
              "      <td>5</td>\n",
              "      <td>15737888</td>\n",
              "      <td>Mitchell</td>\n",
              "      <td>850</td>\n",
              "      <td>Spain</td>\n",
              "      <td>Female</td>\n",
              "      <td>43</td>\n",
              "      <td>2</td>\n",
              "      <td>125510.82</td>\n",
              "      <td>1</td>\n",
              "      <td>1</td>\n",
              "      <td>1</td>\n",
              "      <td>79084.10</td>\n",
              "      <td>0</td>\n",
              "    </tr>\n",
              "  </tbody>\n",
              "</table>\n",
              "</div>\n",
              "      <button class=\"colab-df-convert\" onclick=\"convertToInteractive('df-c5cb0354-d9c3-4063-b9bb-62365387b843')\"\n",
              "              title=\"Convert this dataframe to an interactive table.\"\n",
              "              style=\"display:none;\">\n",
              "        \n",
              "  <svg xmlns=\"http://www.w3.org/2000/svg\" height=\"24px\"viewBox=\"0 0 24 24\"\n",
              "       width=\"24px\">\n",
              "    <path d=\"M0 0h24v24H0V0z\" fill=\"none\"/>\n",
              "    <path d=\"M18.56 5.44l.94 2.06.94-2.06 2.06-.94-2.06-.94-.94-2.06-.94 2.06-2.06.94zm-11 1L8.5 8.5l.94-2.06 2.06-.94-2.06-.94L8.5 2.5l-.94 2.06-2.06.94zm10 10l.94 2.06.94-2.06 2.06-.94-2.06-.94-.94-2.06-.94 2.06-2.06.94z\"/><path d=\"M17.41 7.96l-1.37-1.37c-.4-.4-.92-.59-1.43-.59-.52 0-1.04.2-1.43.59L10.3 9.45l-7.72 7.72c-.78.78-.78 2.05 0 2.83L4 21.41c.39.39.9.59 1.41.59.51 0 1.02-.2 1.41-.59l7.78-7.78 2.81-2.81c.8-.78.8-2.07 0-2.86zM5.41 20L4 18.59l7.72-7.72 1.47 1.35L5.41 20z\"/>\n",
              "  </svg>\n",
              "      </button>\n",
              "      \n",
              "  <style>\n",
              "    .colab-df-container {\n",
              "      display:flex;\n",
              "      flex-wrap:wrap;\n",
              "      gap: 12px;\n",
              "    }\n",
              "\n",
              "    .colab-df-convert {\n",
              "      background-color: #E8F0FE;\n",
              "      border: none;\n",
              "      border-radius: 50%;\n",
              "      cursor: pointer;\n",
              "      display: none;\n",
              "      fill: #1967D2;\n",
              "      height: 32px;\n",
              "      padding: 0 0 0 0;\n",
              "      width: 32px;\n",
              "    }\n",
              "\n",
              "    .colab-df-convert:hover {\n",
              "      background-color: #E2EBFA;\n",
              "      box-shadow: 0px 1px 2px rgba(60, 64, 67, 0.3), 0px 1px 3px 1px rgba(60, 64, 67, 0.15);\n",
              "      fill: #174EA6;\n",
              "    }\n",
              "\n",
              "    [theme=dark] .colab-df-convert {\n",
              "      background-color: #3B4455;\n",
              "      fill: #D2E3FC;\n",
              "    }\n",
              "\n",
              "    [theme=dark] .colab-df-convert:hover {\n",
              "      background-color: #434B5C;\n",
              "      box-shadow: 0px 1px 3px 1px rgba(0, 0, 0, 0.15);\n",
              "      filter: drop-shadow(0px 1px 2px rgba(0, 0, 0, 0.3));\n",
              "      fill: #FFFFFF;\n",
              "    }\n",
              "  </style>\n",
              "\n",
              "      <script>\n",
              "        const buttonEl =\n",
              "          document.querySelector('#df-c5cb0354-d9c3-4063-b9bb-62365387b843 button.colab-df-convert');\n",
              "        buttonEl.style.display =\n",
              "          google.colab.kernel.accessAllowed ? 'block' : 'none';\n",
              "\n",
              "        async function convertToInteractive(key) {\n",
              "          const element = document.querySelector('#df-c5cb0354-d9c3-4063-b9bb-62365387b843');\n",
              "          const dataTable =\n",
              "            await google.colab.kernel.invokeFunction('convertToInteractive',\n",
              "                                                     [key], {});\n",
              "          if (!dataTable) return;\n",
              "\n",
              "          const docLinkHtml = 'Like what you see? Visit the ' +\n",
              "            '<a target=\"_blank\" href=https://colab.research.google.com/notebooks/data_table.ipynb>data table notebook</a>'\n",
              "            + ' to learn more about interactive tables.';\n",
              "          element.innerHTML = '';\n",
              "          dataTable['output_type'] = 'display_data';\n",
              "          await google.colab.output.renderOutput(dataTable, element);\n",
              "          const docLink = document.createElement('div');\n",
              "          docLink.innerHTML = docLinkHtml;\n",
              "          element.appendChild(docLink);\n",
              "        }\n",
              "      </script>\n",
              "    </div>\n",
              "  </div>\n",
              "  "
            ]
          },
          "metadata": {},
          "execution_count": 99
        }
      ]
    },
    {
      "cell_type": "code",
      "source": [
        "# iloc - index location\n",
        "X = df.iloc[ : , 3:13]  # [ : , 3:13] - All rows & columns from column no. 3 to 12\n",
        "y = df.iloc[ : , 13]    # [ : , 13]   - All rows & column at column no. 13"
      ],
      "metadata": {
        "id": "EA_gNMPZKDg4"
      },
      "execution_count": null,
      "outputs": []
    },
    {
      "cell_type": "code",
      "source": [
        "X.head()"
      ],
      "metadata": {
        "colab": {
          "base_uri": "https://localhost:8080/",
          "height": 206
        },
        "id": "3q6bLlHgK3xh",
        "outputId": "fa746755-4e30-48ee-d869-b8e6e62e1937"
      },
      "execution_count": null,
      "outputs": [
        {
          "output_type": "execute_result",
          "data": {
            "text/plain": [
              "   CreditScore Geography  Gender  Age  Tenure    Balance  NumOfProducts  \\\n",
              "0          619    France  Female   42       2       0.00              1   \n",
              "1          608     Spain  Female   41       1   83807.86              1   \n",
              "2          502    France  Female   42       8  159660.80              3   \n",
              "3          699    France  Female   39       1       0.00              2   \n",
              "4          850     Spain  Female   43       2  125510.82              1   \n",
              "\n",
              "   HasCrCard  IsActiveMember  EstimatedSalary  \n",
              "0          1               1        101348.88  \n",
              "1          0               1        112542.58  \n",
              "2          1               0        113931.57  \n",
              "3          0               0         93826.63  \n",
              "4          1               1         79084.10  "
            ],
            "text/html": [
              "\n",
              "  <div id=\"df-4f18ad19-9726-44d0-b80c-32dcf3e23002\">\n",
              "    <div class=\"colab-df-container\">\n",
              "      <div>\n",
              "<style scoped>\n",
              "    .dataframe tbody tr th:only-of-type {\n",
              "        vertical-align: middle;\n",
              "    }\n",
              "\n",
              "    .dataframe tbody tr th {\n",
              "        vertical-align: top;\n",
              "    }\n",
              "\n",
              "    .dataframe thead th {\n",
              "        text-align: right;\n",
              "    }\n",
              "</style>\n",
              "<table border=\"1\" class=\"dataframe\">\n",
              "  <thead>\n",
              "    <tr style=\"text-align: right;\">\n",
              "      <th></th>\n",
              "      <th>CreditScore</th>\n",
              "      <th>Geography</th>\n",
              "      <th>Gender</th>\n",
              "      <th>Age</th>\n",
              "      <th>Tenure</th>\n",
              "      <th>Balance</th>\n",
              "      <th>NumOfProducts</th>\n",
              "      <th>HasCrCard</th>\n",
              "      <th>IsActiveMember</th>\n",
              "      <th>EstimatedSalary</th>\n",
              "    </tr>\n",
              "  </thead>\n",
              "  <tbody>\n",
              "    <tr>\n",
              "      <th>0</th>\n",
              "      <td>619</td>\n",
              "      <td>France</td>\n",
              "      <td>Female</td>\n",
              "      <td>42</td>\n",
              "      <td>2</td>\n",
              "      <td>0.00</td>\n",
              "      <td>1</td>\n",
              "      <td>1</td>\n",
              "      <td>1</td>\n",
              "      <td>101348.88</td>\n",
              "    </tr>\n",
              "    <tr>\n",
              "      <th>1</th>\n",
              "      <td>608</td>\n",
              "      <td>Spain</td>\n",
              "      <td>Female</td>\n",
              "      <td>41</td>\n",
              "      <td>1</td>\n",
              "      <td>83807.86</td>\n",
              "      <td>1</td>\n",
              "      <td>0</td>\n",
              "      <td>1</td>\n",
              "      <td>112542.58</td>\n",
              "    </tr>\n",
              "    <tr>\n",
              "      <th>2</th>\n",
              "      <td>502</td>\n",
              "      <td>France</td>\n",
              "      <td>Female</td>\n",
              "      <td>42</td>\n",
              "      <td>8</td>\n",
              "      <td>159660.80</td>\n",
              "      <td>3</td>\n",
              "      <td>1</td>\n",
              "      <td>0</td>\n",
              "      <td>113931.57</td>\n",
              "    </tr>\n",
              "    <tr>\n",
              "      <th>3</th>\n",
              "      <td>699</td>\n",
              "      <td>France</td>\n",
              "      <td>Female</td>\n",
              "      <td>39</td>\n",
              "      <td>1</td>\n",
              "      <td>0.00</td>\n",
              "      <td>2</td>\n",
              "      <td>0</td>\n",
              "      <td>0</td>\n",
              "      <td>93826.63</td>\n",
              "    </tr>\n",
              "    <tr>\n",
              "      <th>4</th>\n",
              "      <td>850</td>\n",
              "      <td>Spain</td>\n",
              "      <td>Female</td>\n",
              "      <td>43</td>\n",
              "      <td>2</td>\n",
              "      <td>125510.82</td>\n",
              "      <td>1</td>\n",
              "      <td>1</td>\n",
              "      <td>1</td>\n",
              "      <td>79084.10</td>\n",
              "    </tr>\n",
              "  </tbody>\n",
              "</table>\n",
              "</div>\n",
              "      <button class=\"colab-df-convert\" onclick=\"convertToInteractive('df-4f18ad19-9726-44d0-b80c-32dcf3e23002')\"\n",
              "              title=\"Convert this dataframe to an interactive table.\"\n",
              "              style=\"display:none;\">\n",
              "        \n",
              "  <svg xmlns=\"http://www.w3.org/2000/svg\" height=\"24px\"viewBox=\"0 0 24 24\"\n",
              "       width=\"24px\">\n",
              "    <path d=\"M0 0h24v24H0V0z\" fill=\"none\"/>\n",
              "    <path d=\"M18.56 5.44l.94 2.06.94-2.06 2.06-.94-2.06-.94-.94-2.06-.94 2.06-2.06.94zm-11 1L8.5 8.5l.94-2.06 2.06-.94-2.06-.94L8.5 2.5l-.94 2.06-2.06.94zm10 10l.94 2.06.94-2.06 2.06-.94-2.06-.94-.94-2.06-.94 2.06-2.06.94z\"/><path d=\"M17.41 7.96l-1.37-1.37c-.4-.4-.92-.59-1.43-.59-.52 0-1.04.2-1.43.59L10.3 9.45l-7.72 7.72c-.78.78-.78 2.05 0 2.83L4 21.41c.39.39.9.59 1.41.59.51 0 1.02-.2 1.41-.59l7.78-7.78 2.81-2.81c.8-.78.8-2.07 0-2.86zM5.41 20L4 18.59l7.72-7.72 1.47 1.35L5.41 20z\"/>\n",
              "  </svg>\n",
              "      </button>\n",
              "      \n",
              "  <style>\n",
              "    .colab-df-container {\n",
              "      display:flex;\n",
              "      flex-wrap:wrap;\n",
              "      gap: 12px;\n",
              "    }\n",
              "\n",
              "    .colab-df-convert {\n",
              "      background-color: #E8F0FE;\n",
              "      border: none;\n",
              "      border-radius: 50%;\n",
              "      cursor: pointer;\n",
              "      display: none;\n",
              "      fill: #1967D2;\n",
              "      height: 32px;\n",
              "      padding: 0 0 0 0;\n",
              "      width: 32px;\n",
              "    }\n",
              "\n",
              "    .colab-df-convert:hover {\n",
              "      background-color: #E2EBFA;\n",
              "      box-shadow: 0px 1px 2px rgba(60, 64, 67, 0.3), 0px 1px 3px 1px rgba(60, 64, 67, 0.15);\n",
              "      fill: #174EA6;\n",
              "    }\n",
              "\n",
              "    [theme=dark] .colab-df-convert {\n",
              "      background-color: #3B4455;\n",
              "      fill: #D2E3FC;\n",
              "    }\n",
              "\n",
              "    [theme=dark] .colab-df-convert:hover {\n",
              "      background-color: #434B5C;\n",
              "      box-shadow: 0px 1px 3px 1px rgba(0, 0, 0, 0.15);\n",
              "      filter: drop-shadow(0px 1px 2px rgba(0, 0, 0, 0.3));\n",
              "      fill: #FFFFFF;\n",
              "    }\n",
              "  </style>\n",
              "\n",
              "      <script>\n",
              "        const buttonEl =\n",
              "          document.querySelector('#df-4f18ad19-9726-44d0-b80c-32dcf3e23002 button.colab-df-convert');\n",
              "        buttonEl.style.display =\n",
              "          google.colab.kernel.accessAllowed ? 'block' : 'none';\n",
              "\n",
              "        async function convertToInteractive(key) {\n",
              "          const element = document.querySelector('#df-4f18ad19-9726-44d0-b80c-32dcf3e23002');\n",
              "          const dataTable =\n",
              "            await google.colab.kernel.invokeFunction('convertToInteractive',\n",
              "                                                     [key], {});\n",
              "          if (!dataTable) return;\n",
              "\n",
              "          const docLinkHtml = 'Like what you see? Visit the ' +\n",
              "            '<a target=\"_blank\" href=https://colab.research.google.com/notebooks/data_table.ipynb>data table notebook</a>'\n",
              "            + ' to learn more about interactive tables.';\n",
              "          element.innerHTML = '';\n",
              "          dataTable['output_type'] = 'display_data';\n",
              "          await google.colab.output.renderOutput(dataTable, element);\n",
              "          const docLink = document.createElement('div');\n",
              "          docLink.innerHTML = docLinkHtml;\n",
              "          element.appendChild(docLink);\n",
              "        }\n",
              "      </script>\n",
              "    </div>\n",
              "  </div>\n",
              "  "
            ]
          },
          "metadata": {},
          "execution_count": 101
        }
      ]
    },
    {
      "cell_type": "code",
      "source": [
        "y"
      ],
      "metadata": {
        "colab": {
          "base_uri": "https://localhost:8080/"
        },
        "id": "sWy9cuAzK6YD",
        "outputId": "a8edc196-c627-4536-f363-e6e31dbcf02e"
      },
      "execution_count": null,
      "outputs": [
        {
          "output_type": "execute_result",
          "data": {
            "text/plain": [
              "0       1\n",
              "1       0\n",
              "2       1\n",
              "3       0\n",
              "4       0\n",
              "       ..\n",
              "9995    0\n",
              "9996    0\n",
              "9997    1\n",
              "9998    1\n",
              "9999    0\n",
              "Name: Exited, Length: 10000, dtype: int64"
            ]
          },
          "metadata": {},
          "execution_count": 102
        }
      ]
    },
    {
      "cell_type": "code",
      "source": [
        "geography = pd.get_dummies(X['Geography'], drop_first=True)\n",
        "gender = pd.get_dummies(X['Gender'], drop_first=True)"
      ],
      "metadata": {
        "id": "a6hI5JElLAzJ"
      },
      "execution_count": null,
      "outputs": []
    },
    {
      "cell_type": "code",
      "source": [
        "geography.head()"
      ],
      "metadata": {
        "colab": {
          "base_uri": "https://localhost:8080/",
          "height": 206
        },
        "id": "-3VbwvLeLTEL",
        "outputId": "fd2c506f-81d8-47cf-96b5-b2e80169e965"
      },
      "execution_count": null,
      "outputs": [
        {
          "output_type": "execute_result",
          "data": {
            "text/plain": [
              "   Germany  Spain\n",
              "0        0      0\n",
              "1        0      1\n",
              "2        0      0\n",
              "3        0      0\n",
              "4        0      1"
            ],
            "text/html": [
              "\n",
              "  <div id=\"df-8bfd9f79-23c2-46b0-8363-9caec7f0147e\">\n",
              "    <div class=\"colab-df-container\">\n",
              "      <div>\n",
              "<style scoped>\n",
              "    .dataframe tbody tr th:only-of-type {\n",
              "        vertical-align: middle;\n",
              "    }\n",
              "\n",
              "    .dataframe tbody tr th {\n",
              "        vertical-align: top;\n",
              "    }\n",
              "\n",
              "    .dataframe thead th {\n",
              "        text-align: right;\n",
              "    }\n",
              "</style>\n",
              "<table border=\"1\" class=\"dataframe\">\n",
              "  <thead>\n",
              "    <tr style=\"text-align: right;\">\n",
              "      <th></th>\n",
              "      <th>Germany</th>\n",
              "      <th>Spain</th>\n",
              "    </tr>\n",
              "  </thead>\n",
              "  <tbody>\n",
              "    <tr>\n",
              "      <th>0</th>\n",
              "      <td>0</td>\n",
              "      <td>0</td>\n",
              "    </tr>\n",
              "    <tr>\n",
              "      <th>1</th>\n",
              "      <td>0</td>\n",
              "      <td>1</td>\n",
              "    </tr>\n",
              "    <tr>\n",
              "      <th>2</th>\n",
              "      <td>0</td>\n",
              "      <td>0</td>\n",
              "    </tr>\n",
              "    <tr>\n",
              "      <th>3</th>\n",
              "      <td>0</td>\n",
              "      <td>0</td>\n",
              "    </tr>\n",
              "    <tr>\n",
              "      <th>4</th>\n",
              "      <td>0</td>\n",
              "      <td>1</td>\n",
              "    </tr>\n",
              "  </tbody>\n",
              "</table>\n",
              "</div>\n",
              "      <button class=\"colab-df-convert\" onclick=\"convertToInteractive('df-8bfd9f79-23c2-46b0-8363-9caec7f0147e')\"\n",
              "              title=\"Convert this dataframe to an interactive table.\"\n",
              "              style=\"display:none;\">\n",
              "        \n",
              "  <svg xmlns=\"http://www.w3.org/2000/svg\" height=\"24px\"viewBox=\"0 0 24 24\"\n",
              "       width=\"24px\">\n",
              "    <path d=\"M0 0h24v24H0V0z\" fill=\"none\"/>\n",
              "    <path d=\"M18.56 5.44l.94 2.06.94-2.06 2.06-.94-2.06-.94-.94-2.06-.94 2.06-2.06.94zm-11 1L8.5 8.5l.94-2.06 2.06-.94-2.06-.94L8.5 2.5l-.94 2.06-2.06.94zm10 10l.94 2.06.94-2.06 2.06-.94-2.06-.94-.94-2.06-.94 2.06-2.06.94z\"/><path d=\"M17.41 7.96l-1.37-1.37c-.4-.4-.92-.59-1.43-.59-.52 0-1.04.2-1.43.59L10.3 9.45l-7.72 7.72c-.78.78-.78 2.05 0 2.83L4 21.41c.39.39.9.59 1.41.59.51 0 1.02-.2 1.41-.59l7.78-7.78 2.81-2.81c.8-.78.8-2.07 0-2.86zM5.41 20L4 18.59l7.72-7.72 1.47 1.35L5.41 20z\"/>\n",
              "  </svg>\n",
              "      </button>\n",
              "      \n",
              "  <style>\n",
              "    .colab-df-container {\n",
              "      display:flex;\n",
              "      flex-wrap:wrap;\n",
              "      gap: 12px;\n",
              "    }\n",
              "\n",
              "    .colab-df-convert {\n",
              "      background-color: #E8F0FE;\n",
              "      border: none;\n",
              "      border-radius: 50%;\n",
              "      cursor: pointer;\n",
              "      display: none;\n",
              "      fill: #1967D2;\n",
              "      height: 32px;\n",
              "      padding: 0 0 0 0;\n",
              "      width: 32px;\n",
              "    }\n",
              "\n",
              "    .colab-df-convert:hover {\n",
              "      background-color: #E2EBFA;\n",
              "      box-shadow: 0px 1px 2px rgba(60, 64, 67, 0.3), 0px 1px 3px 1px rgba(60, 64, 67, 0.15);\n",
              "      fill: #174EA6;\n",
              "    }\n",
              "\n",
              "    [theme=dark] .colab-df-convert {\n",
              "      background-color: #3B4455;\n",
              "      fill: #D2E3FC;\n",
              "    }\n",
              "\n",
              "    [theme=dark] .colab-df-convert:hover {\n",
              "      background-color: #434B5C;\n",
              "      box-shadow: 0px 1px 3px 1px rgba(0, 0, 0, 0.15);\n",
              "      filter: drop-shadow(0px 1px 2px rgba(0, 0, 0, 0.3));\n",
              "      fill: #FFFFFF;\n",
              "    }\n",
              "  </style>\n",
              "\n",
              "      <script>\n",
              "        const buttonEl =\n",
              "          document.querySelector('#df-8bfd9f79-23c2-46b0-8363-9caec7f0147e button.colab-df-convert');\n",
              "        buttonEl.style.display =\n",
              "          google.colab.kernel.accessAllowed ? 'block' : 'none';\n",
              "\n",
              "        async function convertToInteractive(key) {\n",
              "          const element = document.querySelector('#df-8bfd9f79-23c2-46b0-8363-9caec7f0147e');\n",
              "          const dataTable =\n",
              "            await google.colab.kernel.invokeFunction('convertToInteractive',\n",
              "                                                     [key], {});\n",
              "          if (!dataTable) return;\n",
              "\n",
              "          const docLinkHtml = 'Like what you see? Visit the ' +\n",
              "            '<a target=\"_blank\" href=https://colab.research.google.com/notebooks/data_table.ipynb>data table notebook</a>'\n",
              "            + ' to learn more about interactive tables.';\n",
              "          element.innerHTML = '';\n",
              "          dataTable['output_type'] = 'display_data';\n",
              "          await google.colab.output.renderOutput(dataTable, element);\n",
              "          const docLink = document.createElement('div');\n",
              "          docLink.innerHTML = docLinkHtml;\n",
              "          element.appendChild(docLink);\n",
              "        }\n",
              "      </script>\n",
              "    </div>\n",
              "  </div>\n",
              "  "
            ]
          },
          "metadata": {},
          "execution_count": 104
        }
      ]
    },
    {
      "cell_type": "code",
      "source": [
        "gender.head()"
      ],
      "metadata": {
        "colab": {
          "base_uri": "https://localhost:8080/",
          "height": 206
        },
        "id": "lVGCKpI9LWdG",
        "outputId": "11e5b98f-4813-4892-b9f6-99faec4edd68"
      },
      "execution_count": null,
      "outputs": [
        {
          "output_type": "execute_result",
          "data": {
            "text/plain": [
              "   Male\n",
              "0     0\n",
              "1     0\n",
              "2     0\n",
              "3     0\n",
              "4     0"
            ],
            "text/html": [
              "\n",
              "  <div id=\"df-b7c14ef8-e83e-43e6-b6e3-367ea977a487\">\n",
              "    <div class=\"colab-df-container\">\n",
              "      <div>\n",
              "<style scoped>\n",
              "    .dataframe tbody tr th:only-of-type {\n",
              "        vertical-align: middle;\n",
              "    }\n",
              "\n",
              "    .dataframe tbody tr th {\n",
              "        vertical-align: top;\n",
              "    }\n",
              "\n",
              "    .dataframe thead th {\n",
              "        text-align: right;\n",
              "    }\n",
              "</style>\n",
              "<table border=\"1\" class=\"dataframe\">\n",
              "  <thead>\n",
              "    <tr style=\"text-align: right;\">\n",
              "      <th></th>\n",
              "      <th>Male</th>\n",
              "    </tr>\n",
              "  </thead>\n",
              "  <tbody>\n",
              "    <tr>\n",
              "      <th>0</th>\n",
              "      <td>0</td>\n",
              "    </tr>\n",
              "    <tr>\n",
              "      <th>1</th>\n",
              "      <td>0</td>\n",
              "    </tr>\n",
              "    <tr>\n",
              "      <th>2</th>\n",
              "      <td>0</td>\n",
              "    </tr>\n",
              "    <tr>\n",
              "      <th>3</th>\n",
              "      <td>0</td>\n",
              "    </tr>\n",
              "    <tr>\n",
              "      <th>4</th>\n",
              "      <td>0</td>\n",
              "    </tr>\n",
              "  </tbody>\n",
              "</table>\n",
              "</div>\n",
              "      <button class=\"colab-df-convert\" onclick=\"convertToInteractive('df-b7c14ef8-e83e-43e6-b6e3-367ea977a487')\"\n",
              "              title=\"Convert this dataframe to an interactive table.\"\n",
              "              style=\"display:none;\">\n",
              "        \n",
              "  <svg xmlns=\"http://www.w3.org/2000/svg\" height=\"24px\"viewBox=\"0 0 24 24\"\n",
              "       width=\"24px\">\n",
              "    <path d=\"M0 0h24v24H0V0z\" fill=\"none\"/>\n",
              "    <path d=\"M18.56 5.44l.94 2.06.94-2.06 2.06-.94-2.06-.94-.94-2.06-.94 2.06-2.06.94zm-11 1L8.5 8.5l.94-2.06 2.06-.94-2.06-.94L8.5 2.5l-.94 2.06-2.06.94zm10 10l.94 2.06.94-2.06 2.06-.94-2.06-.94-.94-2.06-.94 2.06-2.06.94z\"/><path d=\"M17.41 7.96l-1.37-1.37c-.4-.4-.92-.59-1.43-.59-.52 0-1.04.2-1.43.59L10.3 9.45l-7.72 7.72c-.78.78-.78 2.05 0 2.83L4 21.41c.39.39.9.59 1.41.59.51 0 1.02-.2 1.41-.59l7.78-7.78 2.81-2.81c.8-.78.8-2.07 0-2.86zM5.41 20L4 18.59l7.72-7.72 1.47 1.35L5.41 20z\"/>\n",
              "  </svg>\n",
              "      </button>\n",
              "      \n",
              "  <style>\n",
              "    .colab-df-container {\n",
              "      display:flex;\n",
              "      flex-wrap:wrap;\n",
              "      gap: 12px;\n",
              "    }\n",
              "\n",
              "    .colab-df-convert {\n",
              "      background-color: #E8F0FE;\n",
              "      border: none;\n",
              "      border-radius: 50%;\n",
              "      cursor: pointer;\n",
              "      display: none;\n",
              "      fill: #1967D2;\n",
              "      height: 32px;\n",
              "      padding: 0 0 0 0;\n",
              "      width: 32px;\n",
              "    }\n",
              "\n",
              "    .colab-df-convert:hover {\n",
              "      background-color: #E2EBFA;\n",
              "      box-shadow: 0px 1px 2px rgba(60, 64, 67, 0.3), 0px 1px 3px 1px rgba(60, 64, 67, 0.15);\n",
              "      fill: #174EA6;\n",
              "    }\n",
              "\n",
              "    [theme=dark] .colab-df-convert {\n",
              "      background-color: #3B4455;\n",
              "      fill: #D2E3FC;\n",
              "    }\n",
              "\n",
              "    [theme=dark] .colab-df-convert:hover {\n",
              "      background-color: #434B5C;\n",
              "      box-shadow: 0px 1px 3px 1px rgba(0, 0, 0, 0.15);\n",
              "      filter: drop-shadow(0px 1px 2px rgba(0, 0, 0, 0.3));\n",
              "      fill: #FFFFFF;\n",
              "    }\n",
              "  </style>\n",
              "\n",
              "      <script>\n",
              "        const buttonEl =\n",
              "          document.querySelector('#df-b7c14ef8-e83e-43e6-b6e3-367ea977a487 button.colab-df-convert');\n",
              "        buttonEl.style.display =\n",
              "          google.colab.kernel.accessAllowed ? 'block' : 'none';\n",
              "\n",
              "        async function convertToInteractive(key) {\n",
              "          const element = document.querySelector('#df-b7c14ef8-e83e-43e6-b6e3-367ea977a487');\n",
              "          const dataTable =\n",
              "            await google.colab.kernel.invokeFunction('convertToInteractive',\n",
              "                                                     [key], {});\n",
              "          if (!dataTable) return;\n",
              "\n",
              "          const docLinkHtml = 'Like what you see? Visit the ' +\n",
              "            '<a target=\"_blank\" href=https://colab.research.google.com/notebooks/data_table.ipynb>data table notebook</a>'\n",
              "            + ' to learn more about interactive tables.';\n",
              "          element.innerHTML = '';\n",
              "          dataTable['output_type'] = 'display_data';\n",
              "          await google.colab.output.renderOutput(dataTable, element);\n",
              "          const docLink = document.createElement('div');\n",
              "          docLink.innerHTML = docLinkHtml;\n",
              "          element.appendChild(docLink);\n",
              "        }\n",
              "      </script>\n",
              "    </div>\n",
              "  </div>\n",
              "  "
            ]
          },
          "metadata": {},
          "execution_count": 105
        }
      ]
    },
    {
      "cell_type": "code",
      "source": [
        "X.drop(['Geography', 'Gender'], axis=1, inplace=True)\n",
        "X.head()"
      ],
      "metadata": {
        "colab": {
          "base_uri": "https://localhost:8080/",
          "height": 206
        },
        "id": "cEnNmQmVLyLs",
        "outputId": "07e9c2ec-732a-4d5c-b314-a04bdcf99d36"
      },
      "execution_count": null,
      "outputs": [
        {
          "output_type": "execute_result",
          "data": {
            "text/plain": [
              "   CreditScore  Age  Tenure    Balance  NumOfProducts  HasCrCard  \\\n",
              "0          619   42       2       0.00              1          1   \n",
              "1          608   41       1   83807.86              1          0   \n",
              "2          502   42       8  159660.80              3          1   \n",
              "3          699   39       1       0.00              2          0   \n",
              "4          850   43       2  125510.82              1          1   \n",
              "\n",
              "   IsActiveMember  EstimatedSalary  \n",
              "0               1        101348.88  \n",
              "1               1        112542.58  \n",
              "2               0        113931.57  \n",
              "3               0         93826.63  \n",
              "4               1         79084.10  "
            ],
            "text/html": [
              "\n",
              "  <div id=\"df-ce11c6a3-690b-4fba-822f-36c2fc6a9672\">\n",
              "    <div class=\"colab-df-container\">\n",
              "      <div>\n",
              "<style scoped>\n",
              "    .dataframe tbody tr th:only-of-type {\n",
              "        vertical-align: middle;\n",
              "    }\n",
              "\n",
              "    .dataframe tbody tr th {\n",
              "        vertical-align: top;\n",
              "    }\n",
              "\n",
              "    .dataframe thead th {\n",
              "        text-align: right;\n",
              "    }\n",
              "</style>\n",
              "<table border=\"1\" class=\"dataframe\">\n",
              "  <thead>\n",
              "    <tr style=\"text-align: right;\">\n",
              "      <th></th>\n",
              "      <th>CreditScore</th>\n",
              "      <th>Age</th>\n",
              "      <th>Tenure</th>\n",
              "      <th>Balance</th>\n",
              "      <th>NumOfProducts</th>\n",
              "      <th>HasCrCard</th>\n",
              "      <th>IsActiveMember</th>\n",
              "      <th>EstimatedSalary</th>\n",
              "    </tr>\n",
              "  </thead>\n",
              "  <tbody>\n",
              "    <tr>\n",
              "      <th>0</th>\n",
              "      <td>619</td>\n",
              "      <td>42</td>\n",
              "      <td>2</td>\n",
              "      <td>0.00</td>\n",
              "      <td>1</td>\n",
              "      <td>1</td>\n",
              "      <td>1</td>\n",
              "      <td>101348.88</td>\n",
              "    </tr>\n",
              "    <tr>\n",
              "      <th>1</th>\n",
              "      <td>608</td>\n",
              "      <td>41</td>\n",
              "      <td>1</td>\n",
              "      <td>83807.86</td>\n",
              "      <td>1</td>\n",
              "      <td>0</td>\n",
              "      <td>1</td>\n",
              "      <td>112542.58</td>\n",
              "    </tr>\n",
              "    <tr>\n",
              "      <th>2</th>\n",
              "      <td>502</td>\n",
              "      <td>42</td>\n",
              "      <td>8</td>\n",
              "      <td>159660.80</td>\n",
              "      <td>3</td>\n",
              "      <td>1</td>\n",
              "      <td>0</td>\n",
              "      <td>113931.57</td>\n",
              "    </tr>\n",
              "    <tr>\n",
              "      <th>3</th>\n",
              "      <td>699</td>\n",
              "      <td>39</td>\n",
              "      <td>1</td>\n",
              "      <td>0.00</td>\n",
              "      <td>2</td>\n",
              "      <td>0</td>\n",
              "      <td>0</td>\n",
              "      <td>93826.63</td>\n",
              "    </tr>\n",
              "    <tr>\n",
              "      <th>4</th>\n",
              "      <td>850</td>\n",
              "      <td>43</td>\n",
              "      <td>2</td>\n",
              "      <td>125510.82</td>\n",
              "      <td>1</td>\n",
              "      <td>1</td>\n",
              "      <td>1</td>\n",
              "      <td>79084.10</td>\n",
              "    </tr>\n",
              "  </tbody>\n",
              "</table>\n",
              "</div>\n",
              "      <button class=\"colab-df-convert\" onclick=\"convertToInteractive('df-ce11c6a3-690b-4fba-822f-36c2fc6a9672')\"\n",
              "              title=\"Convert this dataframe to an interactive table.\"\n",
              "              style=\"display:none;\">\n",
              "        \n",
              "  <svg xmlns=\"http://www.w3.org/2000/svg\" height=\"24px\"viewBox=\"0 0 24 24\"\n",
              "       width=\"24px\">\n",
              "    <path d=\"M0 0h24v24H0V0z\" fill=\"none\"/>\n",
              "    <path d=\"M18.56 5.44l.94 2.06.94-2.06 2.06-.94-2.06-.94-.94-2.06-.94 2.06-2.06.94zm-11 1L8.5 8.5l.94-2.06 2.06-.94-2.06-.94L8.5 2.5l-.94 2.06-2.06.94zm10 10l.94 2.06.94-2.06 2.06-.94-2.06-.94-.94-2.06-.94 2.06-2.06.94z\"/><path d=\"M17.41 7.96l-1.37-1.37c-.4-.4-.92-.59-1.43-.59-.52 0-1.04.2-1.43.59L10.3 9.45l-7.72 7.72c-.78.78-.78 2.05 0 2.83L4 21.41c.39.39.9.59 1.41.59.51 0 1.02-.2 1.41-.59l7.78-7.78 2.81-2.81c.8-.78.8-2.07 0-2.86zM5.41 20L4 18.59l7.72-7.72 1.47 1.35L5.41 20z\"/>\n",
              "  </svg>\n",
              "      </button>\n",
              "      \n",
              "  <style>\n",
              "    .colab-df-container {\n",
              "      display:flex;\n",
              "      flex-wrap:wrap;\n",
              "      gap: 12px;\n",
              "    }\n",
              "\n",
              "    .colab-df-convert {\n",
              "      background-color: #E8F0FE;\n",
              "      border: none;\n",
              "      border-radius: 50%;\n",
              "      cursor: pointer;\n",
              "      display: none;\n",
              "      fill: #1967D2;\n",
              "      height: 32px;\n",
              "      padding: 0 0 0 0;\n",
              "      width: 32px;\n",
              "    }\n",
              "\n",
              "    .colab-df-convert:hover {\n",
              "      background-color: #E2EBFA;\n",
              "      box-shadow: 0px 1px 2px rgba(60, 64, 67, 0.3), 0px 1px 3px 1px rgba(60, 64, 67, 0.15);\n",
              "      fill: #174EA6;\n",
              "    }\n",
              "\n",
              "    [theme=dark] .colab-df-convert {\n",
              "      background-color: #3B4455;\n",
              "      fill: #D2E3FC;\n",
              "    }\n",
              "\n",
              "    [theme=dark] .colab-df-convert:hover {\n",
              "      background-color: #434B5C;\n",
              "      box-shadow: 0px 1px 3px 1px rgba(0, 0, 0, 0.15);\n",
              "      filter: drop-shadow(0px 1px 2px rgba(0, 0, 0, 0.3));\n",
              "      fill: #FFFFFF;\n",
              "    }\n",
              "  </style>\n",
              "\n",
              "      <script>\n",
              "        const buttonEl =\n",
              "          document.querySelector('#df-ce11c6a3-690b-4fba-822f-36c2fc6a9672 button.colab-df-convert');\n",
              "        buttonEl.style.display =\n",
              "          google.colab.kernel.accessAllowed ? 'block' : 'none';\n",
              "\n",
              "        async function convertToInteractive(key) {\n",
              "          const element = document.querySelector('#df-ce11c6a3-690b-4fba-822f-36c2fc6a9672');\n",
              "          const dataTable =\n",
              "            await google.colab.kernel.invokeFunction('convertToInteractive',\n",
              "                                                     [key], {});\n",
              "          if (!dataTable) return;\n",
              "\n",
              "          const docLinkHtml = 'Like what you see? Visit the ' +\n",
              "            '<a target=\"_blank\" href=https://colab.research.google.com/notebooks/data_table.ipynb>data table notebook</a>'\n",
              "            + ' to learn more about interactive tables.';\n",
              "          element.innerHTML = '';\n",
              "          dataTable['output_type'] = 'display_data';\n",
              "          await google.colab.output.renderOutput(dataTable, element);\n",
              "          const docLink = document.createElement('div');\n",
              "          docLink.innerHTML = docLinkHtml;\n",
              "          element.appendChild(docLink);\n",
              "        }\n",
              "      </script>\n",
              "    </div>\n",
              "  </div>\n",
              "  "
            ]
          },
          "metadata": {},
          "execution_count": 106
        }
      ]
    },
    {
      "cell_type": "code",
      "source": [
        "X = pd.concat([X, geography, gender], axis=1)"
      ],
      "metadata": {
        "id": "3zK1W6d7MMR8"
      },
      "execution_count": null,
      "outputs": []
    },
    {
      "cell_type": "code",
      "source": [
        "X.head()"
      ],
      "metadata": {
        "colab": {
          "base_uri": "https://localhost:8080/",
          "height": 206
        },
        "id": "W2Zwb14uMY1-",
        "outputId": "aeae372c-e2b0-408c-a267-5d8988a4063c"
      },
      "execution_count": null,
      "outputs": [
        {
          "output_type": "execute_result",
          "data": {
            "text/plain": [
              "   CreditScore  Age  Tenure    Balance  NumOfProducts  HasCrCard  \\\n",
              "0          619   42       2       0.00              1          1   \n",
              "1          608   41       1   83807.86              1          0   \n",
              "2          502   42       8  159660.80              3          1   \n",
              "3          699   39       1       0.00              2          0   \n",
              "4          850   43       2  125510.82              1          1   \n",
              "\n",
              "   IsActiveMember  EstimatedSalary  Germany  Spain  Male  \n",
              "0               1        101348.88        0      0     0  \n",
              "1               1        112542.58        0      1     0  \n",
              "2               0        113931.57        0      0     0  \n",
              "3               0         93826.63        0      0     0  \n",
              "4               1         79084.10        0      1     0  "
            ],
            "text/html": [
              "\n",
              "  <div id=\"df-d829fdc8-4277-4e8e-87d2-8848acc480cf\">\n",
              "    <div class=\"colab-df-container\">\n",
              "      <div>\n",
              "<style scoped>\n",
              "    .dataframe tbody tr th:only-of-type {\n",
              "        vertical-align: middle;\n",
              "    }\n",
              "\n",
              "    .dataframe tbody tr th {\n",
              "        vertical-align: top;\n",
              "    }\n",
              "\n",
              "    .dataframe thead th {\n",
              "        text-align: right;\n",
              "    }\n",
              "</style>\n",
              "<table border=\"1\" class=\"dataframe\">\n",
              "  <thead>\n",
              "    <tr style=\"text-align: right;\">\n",
              "      <th></th>\n",
              "      <th>CreditScore</th>\n",
              "      <th>Age</th>\n",
              "      <th>Tenure</th>\n",
              "      <th>Balance</th>\n",
              "      <th>NumOfProducts</th>\n",
              "      <th>HasCrCard</th>\n",
              "      <th>IsActiveMember</th>\n",
              "      <th>EstimatedSalary</th>\n",
              "      <th>Germany</th>\n",
              "      <th>Spain</th>\n",
              "      <th>Male</th>\n",
              "    </tr>\n",
              "  </thead>\n",
              "  <tbody>\n",
              "    <tr>\n",
              "      <th>0</th>\n",
              "      <td>619</td>\n",
              "      <td>42</td>\n",
              "      <td>2</td>\n",
              "      <td>0.00</td>\n",
              "      <td>1</td>\n",
              "      <td>1</td>\n",
              "      <td>1</td>\n",
              "      <td>101348.88</td>\n",
              "      <td>0</td>\n",
              "      <td>0</td>\n",
              "      <td>0</td>\n",
              "    </tr>\n",
              "    <tr>\n",
              "      <th>1</th>\n",
              "      <td>608</td>\n",
              "      <td>41</td>\n",
              "      <td>1</td>\n",
              "      <td>83807.86</td>\n",
              "      <td>1</td>\n",
              "      <td>0</td>\n",
              "      <td>1</td>\n",
              "      <td>112542.58</td>\n",
              "      <td>0</td>\n",
              "      <td>1</td>\n",
              "      <td>0</td>\n",
              "    </tr>\n",
              "    <tr>\n",
              "      <th>2</th>\n",
              "      <td>502</td>\n",
              "      <td>42</td>\n",
              "      <td>8</td>\n",
              "      <td>159660.80</td>\n",
              "      <td>3</td>\n",
              "      <td>1</td>\n",
              "      <td>0</td>\n",
              "      <td>113931.57</td>\n",
              "      <td>0</td>\n",
              "      <td>0</td>\n",
              "      <td>0</td>\n",
              "    </tr>\n",
              "    <tr>\n",
              "      <th>3</th>\n",
              "      <td>699</td>\n",
              "      <td>39</td>\n",
              "      <td>1</td>\n",
              "      <td>0.00</td>\n",
              "      <td>2</td>\n",
              "      <td>0</td>\n",
              "      <td>0</td>\n",
              "      <td>93826.63</td>\n",
              "      <td>0</td>\n",
              "      <td>0</td>\n",
              "      <td>0</td>\n",
              "    </tr>\n",
              "    <tr>\n",
              "      <th>4</th>\n",
              "      <td>850</td>\n",
              "      <td>43</td>\n",
              "      <td>2</td>\n",
              "      <td>125510.82</td>\n",
              "      <td>1</td>\n",
              "      <td>1</td>\n",
              "      <td>1</td>\n",
              "      <td>79084.10</td>\n",
              "      <td>0</td>\n",
              "      <td>1</td>\n",
              "      <td>0</td>\n",
              "    </tr>\n",
              "  </tbody>\n",
              "</table>\n",
              "</div>\n",
              "      <button class=\"colab-df-convert\" onclick=\"convertToInteractive('df-d829fdc8-4277-4e8e-87d2-8848acc480cf')\"\n",
              "              title=\"Convert this dataframe to an interactive table.\"\n",
              "              style=\"display:none;\">\n",
              "        \n",
              "  <svg xmlns=\"http://www.w3.org/2000/svg\" height=\"24px\"viewBox=\"0 0 24 24\"\n",
              "       width=\"24px\">\n",
              "    <path d=\"M0 0h24v24H0V0z\" fill=\"none\"/>\n",
              "    <path d=\"M18.56 5.44l.94 2.06.94-2.06 2.06-.94-2.06-.94-.94-2.06-.94 2.06-2.06.94zm-11 1L8.5 8.5l.94-2.06 2.06-.94-2.06-.94L8.5 2.5l-.94 2.06-2.06.94zm10 10l.94 2.06.94-2.06 2.06-.94-2.06-.94-.94-2.06-.94 2.06-2.06.94z\"/><path d=\"M17.41 7.96l-1.37-1.37c-.4-.4-.92-.59-1.43-.59-.52 0-1.04.2-1.43.59L10.3 9.45l-7.72 7.72c-.78.78-.78 2.05 0 2.83L4 21.41c.39.39.9.59 1.41.59.51 0 1.02-.2 1.41-.59l7.78-7.78 2.81-2.81c.8-.78.8-2.07 0-2.86zM5.41 20L4 18.59l7.72-7.72 1.47 1.35L5.41 20z\"/>\n",
              "  </svg>\n",
              "      </button>\n",
              "      \n",
              "  <style>\n",
              "    .colab-df-container {\n",
              "      display:flex;\n",
              "      flex-wrap:wrap;\n",
              "      gap: 12px;\n",
              "    }\n",
              "\n",
              "    .colab-df-convert {\n",
              "      background-color: #E8F0FE;\n",
              "      border: none;\n",
              "      border-radius: 50%;\n",
              "      cursor: pointer;\n",
              "      display: none;\n",
              "      fill: #1967D2;\n",
              "      height: 32px;\n",
              "      padding: 0 0 0 0;\n",
              "      width: 32px;\n",
              "    }\n",
              "\n",
              "    .colab-df-convert:hover {\n",
              "      background-color: #E2EBFA;\n",
              "      box-shadow: 0px 1px 2px rgba(60, 64, 67, 0.3), 0px 1px 3px 1px rgba(60, 64, 67, 0.15);\n",
              "      fill: #174EA6;\n",
              "    }\n",
              "\n",
              "    [theme=dark] .colab-df-convert {\n",
              "      background-color: #3B4455;\n",
              "      fill: #D2E3FC;\n",
              "    }\n",
              "\n",
              "    [theme=dark] .colab-df-convert:hover {\n",
              "      background-color: #434B5C;\n",
              "      box-shadow: 0px 1px 3px 1px rgba(0, 0, 0, 0.15);\n",
              "      filter: drop-shadow(0px 1px 2px rgba(0, 0, 0, 0.3));\n",
              "      fill: #FFFFFF;\n",
              "    }\n",
              "  </style>\n",
              "\n",
              "      <script>\n",
              "        const buttonEl =\n",
              "          document.querySelector('#df-d829fdc8-4277-4e8e-87d2-8848acc480cf button.colab-df-convert');\n",
              "        buttonEl.style.display =\n",
              "          google.colab.kernel.accessAllowed ? 'block' : 'none';\n",
              "\n",
              "        async function convertToInteractive(key) {\n",
              "          const element = document.querySelector('#df-d829fdc8-4277-4e8e-87d2-8848acc480cf');\n",
              "          const dataTable =\n",
              "            await google.colab.kernel.invokeFunction('convertToInteractive',\n",
              "                                                     [key], {});\n",
              "          if (!dataTable) return;\n",
              "\n",
              "          const docLinkHtml = 'Like what you see? Visit the ' +\n",
              "            '<a target=\"_blank\" href=https://colab.research.google.com/notebooks/data_table.ipynb>data table notebook</a>'\n",
              "            + ' to learn more about interactive tables.';\n",
              "          element.innerHTML = '';\n",
              "          dataTable['output_type'] = 'display_data';\n",
              "          await google.colab.output.renderOutput(dataTable, element);\n",
              "          const docLink = document.createElement('div');\n",
              "          docLink.innerHTML = docLinkHtml;\n",
              "          element.appendChild(docLink);\n",
              "        }\n",
              "      </script>\n",
              "    </div>\n",
              "  </div>\n",
              "  "
            ]
          },
          "metadata": {},
          "execution_count": 108
        }
      ]
    },
    {
      "cell_type": "code",
      "source": [
        "from sklearn.model_selection import train_test_split\n",
        "X_train, X_test, y_train, y_test = train_test_split(X, y, test_size=0.2, random_state=1234, stratify=y)"
      ],
      "metadata": {
        "id": "yjeD5mOKMiJJ"
      },
      "execution_count": null,
      "outputs": []
    },
    {
      "cell_type": "code",
      "source": [
        "print(X_train.shape, X_test.shape, y_train.shape, y_test.shape)"
      ],
      "metadata": {
        "colab": {
          "base_uri": "https://localhost:8080/"
        },
        "id": "yAQQIepCM71V",
        "outputId": "920c9a05-1587-42e8-f86d-6850f2306250"
      },
      "execution_count": null,
      "outputs": [
        {
          "output_type": "stream",
          "name": "stdout",
          "text": [
            "(8000, 11) (2000, 11) (8000,) (2000,)\n"
          ]
        }
      ]
    },
    {
      "cell_type": "code",
      "source": [
        "from sklearn.preprocessing import StandardScaler\n",
        "sc = StandardScaler()\n",
        "X_train_scaled = sc.fit_transform(X_train)\n",
        "X_test_scaled = sc.transform(X_test)"
      ],
      "metadata": {
        "id": "Bo91fKMANVSa"
      },
      "execution_count": null,
      "outputs": []
    },
    {
      "cell_type": "code",
      "source": [
        "print(X_train_scaled)"
      ],
      "metadata": {
        "colab": {
          "base_uri": "https://localhost:8080/"
        },
        "id": "0oSg9L9hPgzL",
        "outputId": "0610688e-a564-4f45-98b1-a894bcf65d98"
      },
      "execution_count": null,
      "outputs": [
        {
          "output_type": "stream",
          "name": "stdout",
          "text": [
            "[[-0.29715318 -0.75969054  0.68759149 ... -0.57927478 -0.57812007\n",
            "   0.90202422]\n",
            " [-0.17280071  0.38602137 -0.69563147 ...  1.72629647 -0.57812007\n",
            "   0.90202422]\n",
            " [-0.25570235  0.48149736 -1.04143721 ... -0.57927478 -0.57812007\n",
            "  -1.10861768]\n",
            " ...\n",
            " [ 1.64067279 -0.56873855  1.03339723 ...  1.72629647 -0.57812007\n",
            "   0.90202422]\n",
            " [ 0.67694116  0.19506939  1.37920297 ... -0.57927478 -0.57812007\n",
            "   0.90202422]\n",
            " [ 0.03445341 -0.28231058 -1.04143721 ... -0.57927478  1.72974448\n",
            "  -1.10861768]]\n"
          ]
        }
      ]
    },
    {
      "cell_type": "code",
      "source": [
        "print(X_test_scaled)"
      ],
      "metadata": {
        "colab": {
          "base_uri": "https://localhost:8080/"
        },
        "id": "PMh4wCYdPio6",
        "outputId": "85a156f4-3afb-454a-b847-2695ef85c65b"
      },
      "execution_count": null,
      "outputs": [
        {
          "output_type": "stream",
          "name": "stdout",
          "text": [
            "[[-1.27124751  2.20006523  0.68759149 ...  1.72629647 -0.57812007\n",
            "  -1.10861768]\n",
            " [-0.45259376  0.76792534 -0.34982573 ...  1.72629647 -0.57812007\n",
            "   0.90202422]\n",
            " [ 0.03445341 -0.66421455 -1.04143721 ... -0.57927478  1.72974448\n",
            "  -1.10861768]\n",
            " ...\n",
            " [-1.89300985 -1.61897447 -1.38724295 ... -0.57927478 -0.57812007\n",
            "  -1.10861768]\n",
            " [-0.31787859  0.29054538  1.37920297 ... -0.57927478  1.72974448\n",
            "   0.90202422]\n",
            " [-1.17798316  0.29054538 -1.38724295 ... -0.57927478  1.72974448\n",
            "   0.90202422]]\n"
          ]
        }
      ]
    },
    {
      "cell_type": "markdown",
      "source": [
        "###ANN Implementation"
      ],
      "metadata": {
        "id": "zSzz6VrKQJat"
      }
    },
    {
      "cell_type": "code",
      "source": [
        "# Tensorflow - Framework\n",
        "# Keras - Wrapper of Tensorflow"
      ],
      "metadata": {
        "id": "lILNw9ubPlZb"
      },
      "execution_count": null,
      "outputs": []
    },
    {
      "cell_type": "code",
      "source": [
        "from keras.models import Sequential                 # Model Initialization\n",
        "from keras.layers import Dense                      # For Creating Hidden Layers, Input Layers, Output Layers\n",
        "from keras.layers import Dropout                    # For Handling Overfitting by dropping out few neurons from different layers\n",
        "from keras.layers import LeakyReLU,ELU,PReLU,ReLU   # Activation Functions for Hidden Layers"
      ],
      "metadata": {
        "id": "fHEpsNQxQPGq"
      },
      "execution_count": null,
      "outputs": []
    },
    {
      "cell_type": "code",
      "source": [
        "# Initialize the ANN\n",
        "classifier = Sequential()"
      ],
      "metadata": {
        "id": "urNuO7QIQPJH"
      },
      "execution_count": null,
      "outputs": []
    },
    {
      "cell_type": "code",
      "source": [
        "# Input Layer\n",
        "classifier.add(Dense(units=X_train_scaled.shape[1], activation='relu'))"
      ],
      "metadata": {
        "id": "F8LOYig5QPLe"
      },
      "execution_count": null,
      "outputs": []
    },
    {
      "cell_type": "code",
      "source": [
        "# First Hidden Layer\n",
        "classifier.add(Dense(units=7, activation='relu'))"
      ],
      "metadata": {
        "id": "J8AuL7EBQPOm"
      },
      "execution_count": null,
      "outputs": []
    },
    {
      "cell_type": "code",
      "source": [
        "# Adding Dropouts for 20%\n",
        "classifier.add(Dropout(0.2))"
      ],
      "metadata": {
        "id": "iz8qu1SIf6VB"
      },
      "execution_count": null,
      "outputs": []
    },
    {
      "cell_type": "code",
      "source": [
        "# Second Hidden Layer\n",
        "classifier.add(Dense(units=6, activation='relu'))"
      ],
      "metadata": {
        "id": "kExO8iF0Thww"
      },
      "execution_count": null,
      "outputs": []
    },
    {
      "cell_type": "code",
      "source": [
        "# Adding Dropouts for 20%\n",
        "classifier.add(Dropout(0.2))"
      ],
      "metadata": {
        "id": "1TwII7jjfqMF"
      },
      "execution_count": null,
      "outputs": []
    },
    {
      "cell_type": "code",
      "source": [
        "# Output layer\n",
        "classifier.add(Dense(units=1, activation='sigmoid'))"
      ],
      "metadata": {
        "id": "Fdc4lCEXTrun"
      },
      "execution_count": null,
      "outputs": []
    },
    {
      "cell_type": "code",
      "source": [
        "# Compiling the ANN (Default)\n",
        "classifier.compile(optimizer='adam', loss='binary_crossentropy', metrics='accuracy')"
      ],
      "metadata": {
        "id": "z0zkqbOkT8b1"
      },
      "execution_count": null,
      "outputs": []
    },
    {
      "cell_type": "code",
      "source": [
        "from tensorflow import keras\n",
        "# Compiling the ANN with new Adam Learning_rate = 0.01\n",
        "opt = keras.optimizers.Adam(learning_rate=0.01)\n",
        "classifier.compile(optimizer=opt, loss='binary_crossentropy', metrics='accuracy')"
      ],
      "metadata": {
        "id": "Mg67uR2xUjSH"
      },
      "execution_count": null,
      "outputs": []
    },
    {
      "cell_type": "code",
      "source": [
        "model_history = classifier.fit(X_train_scaled, y_train, validation_split=0.33, batch_size=10, epochs=50)"
      ],
      "metadata": {
        "colab": {
          "base_uri": "https://localhost:8080/"
        },
        "id": "g4SlcudDVhQP",
        "outputId": "29d81dfb-0eb6-4940-f72f-0e8527119d9c"
      },
      "execution_count": null,
      "outputs": [
        {
          "output_type": "stream",
          "name": "stdout",
          "text": [
            "Epoch 1/50\n",
            "536/536 [==============================] - 2s 3ms/step - loss: 0.4556 - accuracy: 0.8016 - val_loss: 0.3878 - val_accuracy: 0.8243\n",
            "Epoch 2/50\n",
            "536/536 [==============================] - 1s 2ms/step - loss: 0.3999 - accuracy: 0.8218 - val_loss: 0.3779 - val_accuracy: 0.8489\n",
            "Epoch 3/50\n",
            "536/536 [==============================] - 1s 2ms/step - loss: 0.3962 - accuracy: 0.8278 - val_loss: 0.3627 - val_accuracy: 0.8595\n",
            "Epoch 4/50\n",
            "536/536 [==============================] - 1s 2ms/step - loss: 0.3843 - accuracy: 0.8401 - val_loss: 0.3675 - val_accuracy: 0.8542\n",
            "Epoch 5/50\n",
            "536/536 [==============================] - 1s 2ms/step - loss: 0.3834 - accuracy: 0.8405 - val_loss: 0.3558 - val_accuracy: 0.8576\n",
            "Epoch 6/50\n",
            "536/536 [==============================] - 1s 2ms/step - loss: 0.3792 - accuracy: 0.8403 - val_loss: 0.3703 - val_accuracy: 0.8451\n",
            "Epoch 7/50\n",
            "536/536 [==============================] - 1s 2ms/step - loss: 0.3788 - accuracy: 0.8395 - val_loss: 0.3610 - val_accuracy: 0.8546\n",
            "Epoch 8/50\n",
            "536/536 [==============================] - 1s 2ms/step - loss: 0.3812 - accuracy: 0.8412 - val_loss: 0.3533 - val_accuracy: 0.8550\n",
            "Epoch 9/50\n",
            "536/536 [==============================] - 1s 2ms/step - loss: 0.3827 - accuracy: 0.8362 - val_loss: 0.3601 - val_accuracy: 0.8584\n",
            "Epoch 10/50\n",
            "536/536 [==============================] - 1s 2ms/step - loss: 0.3777 - accuracy: 0.8375 - val_loss: 0.3502 - val_accuracy: 0.8569\n",
            "Epoch 11/50\n",
            "536/536 [==============================] - 1s 2ms/step - loss: 0.3752 - accuracy: 0.8440 - val_loss: 0.3492 - val_accuracy: 0.8546\n",
            "Epoch 12/50\n",
            "536/536 [==============================] - 1s 2ms/step - loss: 0.3729 - accuracy: 0.8447 - val_loss: 0.3545 - val_accuracy: 0.8550\n",
            "Epoch 13/50\n",
            "536/536 [==============================] - 1s 2ms/step - loss: 0.3646 - accuracy: 0.8500 - val_loss: 0.3483 - val_accuracy: 0.8550\n",
            "Epoch 14/50\n",
            "536/536 [==============================] - 1s 2ms/step - loss: 0.3651 - accuracy: 0.8518 - val_loss: 0.3497 - val_accuracy: 0.8603\n",
            "Epoch 15/50\n",
            "536/536 [==============================] - 1s 2ms/step - loss: 0.3667 - accuracy: 0.8492 - val_loss: 0.3559 - val_accuracy: 0.8591\n",
            "Epoch 16/50\n",
            "536/536 [==============================] - 1s 2ms/step - loss: 0.3661 - accuracy: 0.8479 - val_loss: 0.3563 - val_accuracy: 0.8554\n",
            "Epoch 17/50\n",
            "536/536 [==============================] - 1s 2ms/step - loss: 0.3636 - accuracy: 0.8502 - val_loss: 0.3529 - val_accuracy: 0.8554\n",
            "Epoch 18/50\n",
            "536/536 [==============================] - 1s 2ms/step - loss: 0.3655 - accuracy: 0.8502 - val_loss: 0.3728 - val_accuracy: 0.8410\n",
            "Epoch 19/50\n",
            "536/536 [==============================] - 2s 3ms/step - loss: 0.3622 - accuracy: 0.8490 - val_loss: 0.3451 - val_accuracy: 0.8626\n",
            "Epoch 20/50\n",
            "536/536 [==============================] - 1s 2ms/step - loss: 0.3630 - accuracy: 0.8464 - val_loss: 0.3502 - val_accuracy: 0.8607\n",
            "Epoch 21/50\n",
            "536/536 [==============================] - 1s 2ms/step - loss: 0.3566 - accuracy: 0.8517 - val_loss: 0.3545 - val_accuracy: 0.8519\n",
            "Epoch 22/50\n",
            "536/536 [==============================] - 1s 2ms/step - loss: 0.3603 - accuracy: 0.8479 - val_loss: 0.3551 - val_accuracy: 0.8588\n",
            "Epoch 23/50\n",
            "536/536 [==============================] - 1s 2ms/step - loss: 0.3626 - accuracy: 0.8433 - val_loss: 0.3606 - val_accuracy: 0.8573\n",
            "Epoch 24/50\n",
            "536/536 [==============================] - 1s 2ms/step - loss: 0.3645 - accuracy: 0.8515 - val_loss: 0.3533 - val_accuracy: 0.8610\n",
            "Epoch 25/50\n",
            "536/536 [==============================] - 1s 2ms/step - loss: 0.3619 - accuracy: 0.8500 - val_loss: 0.3614 - val_accuracy: 0.8569\n",
            "Epoch 26/50\n",
            "536/536 [==============================] - 1s 2ms/step - loss: 0.3606 - accuracy: 0.8500 - val_loss: 0.3496 - val_accuracy: 0.8622\n",
            "Epoch 27/50\n",
            "536/536 [==============================] - 1s 2ms/step - loss: 0.3623 - accuracy: 0.8533 - val_loss: 0.3557 - val_accuracy: 0.8519\n",
            "Epoch 28/50\n",
            "536/536 [==============================] - 1s 2ms/step - loss: 0.3592 - accuracy: 0.8494 - val_loss: 0.3490 - val_accuracy: 0.8633\n",
            "Epoch 29/50\n",
            "536/536 [==============================] - 1s 2ms/step - loss: 0.3591 - accuracy: 0.8505 - val_loss: 0.3590 - val_accuracy: 0.8554\n",
            "Epoch 30/50\n",
            "536/536 [==============================] - 1s 2ms/step - loss: 0.3661 - accuracy: 0.8485 - val_loss: 0.3576 - val_accuracy: 0.8573\n",
            "Epoch 31/50\n",
            "536/536 [==============================] - 1s 2ms/step - loss: 0.3602 - accuracy: 0.8541 - val_loss: 0.3620 - val_accuracy: 0.8554\n",
            "Epoch 32/50\n",
            "536/536 [==============================] - 1s 2ms/step - loss: 0.3564 - accuracy: 0.8530 - val_loss: 0.3554 - val_accuracy: 0.8542\n",
            "Epoch 33/50\n",
            "536/536 [==============================] - 1s 2ms/step - loss: 0.3558 - accuracy: 0.8545 - val_loss: 0.3561 - val_accuracy: 0.8527\n",
            "Epoch 34/50\n",
            "536/536 [==============================] - 1s 2ms/step - loss: 0.3550 - accuracy: 0.8515 - val_loss: 0.3564 - val_accuracy: 0.8523\n",
            "Epoch 35/50\n",
            "536/536 [==============================] - 2s 3ms/step - loss: 0.3574 - accuracy: 0.8552 - val_loss: 0.3528 - val_accuracy: 0.8542\n",
            "Epoch 36/50\n",
            "536/536 [==============================] - 1s 3ms/step - loss: 0.3555 - accuracy: 0.8530 - val_loss: 0.3473 - val_accuracy: 0.8557\n",
            "Epoch 37/50\n",
            "536/536 [==============================] - 2s 3ms/step - loss: 0.3561 - accuracy: 0.8528 - val_loss: 0.3552 - val_accuracy: 0.8576\n",
            "Epoch 38/50\n",
            "536/536 [==============================] - 1s 2ms/step - loss: 0.3554 - accuracy: 0.8537 - val_loss: 0.3530 - val_accuracy: 0.8565\n",
            "Epoch 39/50\n",
            "536/536 [==============================] - 1s 2ms/step - loss: 0.3515 - accuracy: 0.8511 - val_loss: 0.3536 - val_accuracy: 0.8478\n",
            "Epoch 40/50\n",
            "536/536 [==============================] - 1s 2ms/step - loss: 0.3586 - accuracy: 0.8479 - val_loss: 0.3566 - val_accuracy: 0.8523\n",
            "Epoch 41/50\n",
            "536/536 [==============================] - 1s 2ms/step - loss: 0.3550 - accuracy: 0.8477 - val_loss: 0.3831 - val_accuracy: 0.8489\n",
            "Epoch 42/50\n",
            "536/536 [==============================] - 1s 2ms/step - loss: 0.3525 - accuracy: 0.8507 - val_loss: 0.3689 - val_accuracy: 0.8436\n",
            "Epoch 43/50\n",
            "536/536 [==============================] - 1s 3ms/step - loss: 0.3489 - accuracy: 0.8518 - val_loss: 0.3722 - val_accuracy: 0.8497\n",
            "Epoch 44/50\n",
            "536/536 [==============================] - 1s 2ms/step - loss: 0.3489 - accuracy: 0.8584 - val_loss: 0.3706 - val_accuracy: 0.8531\n",
            "Epoch 45/50\n",
            "536/536 [==============================] - 1s 2ms/step - loss: 0.3531 - accuracy: 0.8550 - val_loss: 0.3712 - val_accuracy: 0.8516\n",
            "Epoch 46/50\n",
            "536/536 [==============================] - 1s 2ms/step - loss: 0.3608 - accuracy: 0.8518 - val_loss: 0.3614 - val_accuracy: 0.8599\n",
            "Epoch 47/50\n",
            "536/536 [==============================] - 1s 2ms/step - loss: 0.3527 - accuracy: 0.8543 - val_loss: 0.3625 - val_accuracy: 0.8584\n",
            "Epoch 48/50\n",
            "536/536 [==============================] - 1s 2ms/step - loss: 0.3554 - accuracy: 0.8505 - val_loss: 0.3827 - val_accuracy: 0.8451\n",
            "Epoch 49/50\n",
            "536/536 [==============================] - 1s 3ms/step - loss: 0.3594 - accuracy: 0.8505 - val_loss: 0.3781 - val_accuracy: 0.8360\n",
            "Epoch 50/50\n",
            "536/536 [==============================] - 1s 2ms/step - loss: 0.3552 - accuracy: 0.8498 - val_loss: 0.3728 - val_accuracy: 0.8565\n"
          ]
        }
      ]
    },
    {
      "cell_type": "code",
      "source": [
        "print(model_history.history.keys())\n",
        "print(model_history.history.values())"
      ],
      "metadata": {
        "colab": {
          "base_uri": "https://localhost:8080/"
        },
        "id": "0TX7nlnJWa1O",
        "outputId": "0f4e82e7-ebe2-4f6e-ec6f-1e1599d7d4a5"
      },
      "execution_count": null,
      "outputs": [
        {
          "output_type": "stream",
          "name": "stdout",
          "text": [
            "dict_keys(['loss', 'accuracy', 'val_loss', 'val_accuracy'])\n",
            "dict_values([[0.4555550515651703, 0.39990493655204773, 0.3961825966835022, 0.3842853605747223, 0.38339412212371826, 0.3791991174221039, 0.37877196073532104, 0.3811504542827606, 0.3827100992202759, 0.377735435962677, 0.3752362132072449, 0.3728814423084259, 0.3645847737789154, 0.3650873899459839, 0.3666824400424957, 0.36613723635673523, 0.3635687232017517, 0.3655495047569275, 0.36217832565307617, 0.3629871904850006, 0.3565819263458252, 0.36032235622406006, 0.3626323342323303, 0.3645322620868683, 0.36186960339546204, 0.3605670928955078, 0.36232009530067444, 0.3592177927494049, 0.3591131567955017, 0.36605584621429443, 0.360154926776886, 0.35635554790496826, 0.35577094554901123, 0.3550238609313965, 0.357420951128006, 0.3555496335029602, 0.3561073839664459, 0.35542571544647217, 0.35154664516448975, 0.35860759019851685, 0.3549882173538208, 0.3524669408798218, 0.34893593192100525, 0.3489164113998413, 0.35311952233314514, 0.36076366901397705, 0.35267966985702515, 0.35535547137260437, 0.3594030737876892, 0.3551938235759735], [0.801642119884491, 0.8217951059341431, 0.8277663588523865, 0.8400821089744568, 0.8404552936553955, 0.8402687311172485, 0.8395223021507263, 0.8412017226219177, 0.8361634612083435, 0.8374696969985962, 0.8440007567405701, 0.8447471261024475, 0.8499720096588135, 0.8518380522727966, 0.8492255806922913, 0.8479194045066833, 0.8501586318016052, 0.8501586318016052, 0.8490390181541443, 0.8464265465736389, 0.8516514301300049, 0.8479194045066833, 0.8432543277740479, 0.8514648079872131, 0.8499720096588135, 0.8499720096588135, 0.8533308506011963, 0.849412202835083, 0.850531816482544, 0.8484792113304138, 0.8540772795677185, 0.8529576659202576, 0.8544504642486572, 0.8514648079872131, 0.8551968932151794, 0.8529576659202576, 0.8527710437774658, 0.853704035282135, 0.8510916233062744, 0.8479194045066833, 0.8477327823638916, 0.8507184386253357, 0.8518380522727966, 0.8583691120147705, 0.8550102710723877, 0.8518380522727966, 0.8542638421058655, 0.850531816482544, 0.850531816482544, 0.8497853875160217], [0.38775956630706787, 0.3779258131980896, 0.3626839518547058, 0.3675413131713867, 0.3557811975479126, 0.37027615308761597, 0.3610170781612396, 0.35333627462387085, 0.36008644104003906, 0.3502168357372284, 0.3492489755153656, 0.35451221466064453, 0.34829092025756836, 0.349743127822876, 0.3558657765388489, 0.35629478096961975, 0.35288387537002563, 0.37284600734710693, 0.3450849652290344, 0.35021743178367615, 0.3545421361923218, 0.3551378846168518, 0.360607385635376, 0.35329321026802063, 0.3613632321357727, 0.3495699465274811, 0.3556734323501587, 0.3490498661994934, 0.3589676320552826, 0.3575613796710968, 0.3620210886001587, 0.35537075996398926, 0.3561282157897949, 0.3563898801803589, 0.35281136631965637, 0.3473428785800934, 0.3552117645740509, 0.353039026260376, 0.3535824716091156, 0.35664597153663635, 0.3830864429473877, 0.36893439292907715, 0.37223872542381287, 0.3705942928791046, 0.3711690902709961, 0.3613903224468231, 0.36254239082336426, 0.3827444612979889, 0.37812572717666626, 0.37275800108909607], [0.8243089914321899, 0.8489208817481995, 0.8595228791236877, 0.8542218804359436, 0.857629656791687, 0.845134437084198, 0.8546005487442017, 0.8549791574478149, 0.8583869934082031, 0.8568723797798157, 0.8546005487442017, 0.8549791574478149, 0.8549791574478149, 0.8602802157402039, 0.8591442704200745, 0.855357825756073, 0.855357825756073, 0.8409693241119385, 0.8625520467758179, 0.8606588244438171, 0.8519499897956848, 0.8587656021118164, 0.8572510480880737, 0.8610374927520752, 0.8568723797798157, 0.8621734380722046, 0.8519499897956848, 0.8633093237876892, 0.855357825756073, 0.8572510480880737, 0.855357825756073, 0.8542218804359436, 0.8527073264122009, 0.8523286581039429, 0.8542218804359436, 0.8557364344596863, 0.857629656791687, 0.8564937710762024, 0.8477849364280701, 0.8523286581039429, 0.8489208817481995, 0.8436198234558105, 0.8496781587600708, 0.8530859351158142, 0.8515713810920715, 0.8599015474319458, 0.8583869934082031, 0.845134437084198, 0.8360469341278076, 0.8564937710762024]])\n"
          ]
        }
      ]
    },
    {
      "cell_type": "code",
      "source": [
        "print(model_history.history['accuracy'])\n",
        "print(model_history.history['val_accuracy'])"
      ],
      "metadata": {
        "colab": {
          "base_uri": "https://localhost:8080/"
        },
        "id": "e1W85-SmXYPG",
        "outputId": "36c8c3ae-4a7e-4636-cf97-1ea3b971a0e4"
      },
      "execution_count": null,
      "outputs": [
        {
          "output_type": "stream",
          "name": "stdout",
          "text": [
            "[0.801642119884491, 0.8217951059341431, 0.8277663588523865, 0.8400821089744568, 0.8404552936553955, 0.8402687311172485, 0.8395223021507263, 0.8412017226219177, 0.8361634612083435, 0.8374696969985962, 0.8440007567405701, 0.8447471261024475, 0.8499720096588135, 0.8518380522727966, 0.8492255806922913, 0.8479194045066833, 0.8501586318016052, 0.8501586318016052, 0.8490390181541443, 0.8464265465736389, 0.8516514301300049, 0.8479194045066833, 0.8432543277740479, 0.8514648079872131, 0.8499720096588135, 0.8499720096588135, 0.8533308506011963, 0.849412202835083, 0.850531816482544, 0.8484792113304138, 0.8540772795677185, 0.8529576659202576, 0.8544504642486572, 0.8514648079872131, 0.8551968932151794, 0.8529576659202576, 0.8527710437774658, 0.853704035282135, 0.8510916233062744, 0.8479194045066833, 0.8477327823638916, 0.8507184386253357, 0.8518380522727966, 0.8583691120147705, 0.8550102710723877, 0.8518380522727966, 0.8542638421058655, 0.850531816482544, 0.850531816482544, 0.8497853875160217]\n",
            "[0.8243089914321899, 0.8489208817481995, 0.8595228791236877, 0.8542218804359436, 0.857629656791687, 0.845134437084198, 0.8546005487442017, 0.8549791574478149, 0.8583869934082031, 0.8568723797798157, 0.8546005487442017, 0.8549791574478149, 0.8549791574478149, 0.8602802157402039, 0.8591442704200745, 0.855357825756073, 0.855357825756073, 0.8409693241119385, 0.8625520467758179, 0.8606588244438171, 0.8519499897956848, 0.8587656021118164, 0.8572510480880737, 0.8610374927520752, 0.8568723797798157, 0.8621734380722046, 0.8519499897956848, 0.8633093237876892, 0.855357825756073, 0.8572510480880737, 0.855357825756073, 0.8542218804359436, 0.8527073264122009, 0.8523286581039429, 0.8542218804359436, 0.8557364344596863, 0.857629656791687, 0.8564937710762024, 0.8477849364280701, 0.8523286581039429, 0.8489208817481995, 0.8436198234558105, 0.8496781587600708, 0.8530859351158142, 0.8515713810920715, 0.8599015474319458, 0.8583869934082031, 0.845134437084198, 0.8360469341278076, 0.8564937710762024]\n"
          ]
        }
      ]
    },
    {
      "cell_type": "code",
      "source": [
        "plt.plot(model_history.history['accuracy'])\n",
        "plt.plot(model_history.history['val_accuracy'])\n",
        "plt.title('Model Accuracy')\n",
        "plt.xlabel('Epochs')\n",
        "plt.ylabel('Accuracy')\n",
        "plt.legend(['Train','Test'], loc='upper left')"
      ],
      "metadata": {
        "colab": {
          "base_uri": "https://localhost:8080/",
          "height": 313
        },
        "id": "LwHyPMP-XxP1",
        "outputId": "a3b3792f-0f48-44f1-b589-4994408a6715"
      },
      "execution_count": null,
      "outputs": [
        {
          "output_type": "execute_result",
          "data": {
            "text/plain": [
              "<matplotlib.legend.Legend at 0x7f279281b050>"
            ]
          },
          "metadata": {},
          "execution_count": 128
        },
        {
          "output_type": "display_data",
          "data": {
            "text/plain": [
              "<Figure size 432x288 with 1 Axes>"
            ],
            "image/png": "[encoded data removed]"
          },
          "metadata": {
            "needs_background": "light"
          }
        }
      ]
    },
    {
      "cell_type": "code",
      "source": [
        "plt.plot(model_history.history['loss'])\n",
        "plt.plot(model_history.history['val_loss'])\n",
        "plt.title('Model Loss')\n",
        "plt.xlabel('Epochs')\n",
        "plt.ylabel('Loss')\n",
        "plt.legend(['Train','Test'], loc='upper left')"
      ],
      "metadata": {
        "colab": {
          "base_uri": "https://localhost:8080/",
          "height": 313
        },
        "id": "qQvy3R-zX6ZF",
        "outputId": "b36dc82c-1f18-4968-ce67-30591b622b50"
      },
      "execution_count": null,
      "outputs": [
        {
          "output_type": "execute_result",
          "data": {
            "text/plain": [
              "<matplotlib.legend.Legend at 0x7f27928407d0>"
            ]
          },
          "metadata": {},
          "execution_count": 129
        },
        {
          "output_type": "display_data",
          "data": {
            "text/plain": [
              "<Figure size 432x288 with 1 Axes>"
            ],
            "image/png": "[encoded data removed]"
          },
          "metadata": {
            "needs_background": "light"
          }
        }
      ]
    },
    {
      "cell_type": "markdown",
      "source": [
        "### Implementing Early Stopping"
      ],
      "metadata": {
        "id": "9VZhbr-RY3qI"
      }
    },
    {
      "cell_type": "code",
      "source": [
        "from keras.callbacks import EarlyStopping\n",
        "callbacks = EarlyStopping(monitor='val_loss', min_delta=0.0001, mode='auto', verbose=1, patience=20, baseline=None, restore_best_weights=False)"
      ],
      "metadata": {
        "id": "xJPd93x_Yvrl"
      },
      "execution_count": null,
      "outputs": []
    },
    {
      "cell_type": "code",
      "source": [
        "model_history = classifier.fit(X_train_scaled, y_train, validation_split=0.33, batch_size=10, epochs=100, callbacks=callbacks)"
      ],
      "metadata": {
        "colab": {
          "base_uri": "https://localhost:8080/"
        },
        "id": "sDUAAUmHaBDh",
        "outputId": "96ebae56-c80b-4a75-f09f-1397978938a9"
      },
      "execution_count": null,
      "outputs": [
        {
          "output_type": "stream",
          "name": "stdout",
          "text": [
            "Epoch 1/100\n",
            "536/536 [==============================] - 1s 2ms/step - loss: 0.3601 - accuracy: 0.8533 - val_loss: 0.3802 - val_accuracy: 0.8542\n",
            "Epoch 2/100\n",
            "536/536 [==============================] - 1s 2ms/step - loss: 0.3486 - accuracy: 0.8550 - val_loss: 0.3752 - val_accuracy: 0.8550\n",
            "Epoch 3/100\n",
            "536/536 [==============================] - 1s 2ms/step - loss: 0.3539 - accuracy: 0.8515 - val_loss: 0.3799 - val_accuracy: 0.8425\n",
            "Epoch 4/100\n",
            "536/536 [==============================] - 1s 2ms/step - loss: 0.3466 - accuracy: 0.8517 - val_loss: 0.3758 - val_accuracy: 0.8557\n",
            "Epoch 5/100\n",
            "536/536 [==============================] - 1s 2ms/step - loss: 0.3505 - accuracy: 0.8520 - val_loss: 0.3667 - val_accuracy: 0.8599\n",
            "Epoch 6/100\n",
            "536/536 [==============================] - 1s 2ms/step - loss: 0.3487 - accuracy: 0.8526 - val_loss: 0.3740 - val_accuracy: 0.8622\n",
            "Epoch 7/100\n",
            "536/536 [==============================] - 1s 2ms/step - loss: 0.3525 - accuracy: 0.8515 - val_loss: 0.3863 - val_accuracy: 0.8550\n",
            "Epoch 8/100\n",
            "536/536 [==============================] - 1s 2ms/step - loss: 0.3530 - accuracy: 0.8541 - val_loss: 0.3712 - val_accuracy: 0.8569\n",
            "Epoch 9/100\n",
            "536/536 [==============================] - 1s 2ms/step - loss: 0.3475 - accuracy: 0.8572 - val_loss: 0.3741 - val_accuracy: 0.8527\n",
            "Epoch 10/100\n",
            "536/536 [==============================] - 1s 2ms/step - loss: 0.3505 - accuracy: 0.8530 - val_loss: 0.3758 - val_accuracy: 0.8565\n",
            "Epoch 11/100\n",
            "536/536 [==============================] - 1s 2ms/step - loss: 0.3559 - accuracy: 0.8541 - val_loss: 0.3720 - val_accuracy: 0.8573\n",
            "Epoch 12/100\n",
            "536/536 [==============================] - 1s 2ms/step - loss: 0.3530 - accuracy: 0.8543 - val_loss: 0.3832 - val_accuracy: 0.8501\n",
            "Epoch 13/100\n",
            "536/536 [==============================] - 1s 2ms/step - loss: 0.3484 - accuracy: 0.8535 - val_loss: 0.3910 - val_accuracy: 0.8516\n",
            "Epoch 14/100\n",
            "536/536 [==============================] - 1s 2ms/step - loss: 0.3500 - accuracy: 0.8513 - val_loss: 0.3791 - val_accuracy: 0.8550\n",
            "Epoch 15/100\n",
            "536/536 [==============================] - 1s 2ms/step - loss: 0.3486 - accuracy: 0.8513 - val_loss: 0.3738 - val_accuracy: 0.8516\n",
            "Epoch 16/100\n",
            "536/536 [==============================] - 1s 2ms/step - loss: 0.3549 - accuracy: 0.8524 - val_loss: 0.3720 - val_accuracy: 0.8550\n",
            "Epoch 17/100\n",
            "536/536 [==============================] - 1s 2ms/step - loss: 0.3513 - accuracy: 0.8528 - val_loss: 0.3745 - val_accuracy: 0.8610\n",
            "Epoch 18/100\n",
            "536/536 [==============================] - 1s 2ms/step - loss: 0.3490 - accuracy: 0.8518 - val_loss: 0.3953 - val_accuracy: 0.8595\n",
            "Epoch 19/100\n",
            "536/536 [==============================] - 1s 2ms/step - loss: 0.3503 - accuracy: 0.8559 - val_loss: 0.3776 - val_accuracy: 0.8565\n",
            "Epoch 20/100\n",
            "536/536 [==============================] - 1s 2ms/step - loss: 0.3537 - accuracy: 0.8518 - val_loss: 0.3737 - val_accuracy: 0.8512\n",
            "Epoch 21/100\n",
            "536/536 [==============================] - 1s 2ms/step - loss: 0.3549 - accuracy: 0.8528 - val_loss: 0.3740 - val_accuracy: 0.8591\n",
            "Epoch 22/100\n",
            "536/536 [==============================] - 1s 2ms/step - loss: 0.3487 - accuracy: 0.8518 - val_loss: 0.3814 - val_accuracy: 0.8576\n",
            "Epoch 23/100\n",
            "536/536 [==============================] - 1s 2ms/step - loss: 0.3467 - accuracy: 0.8569 - val_loss: 0.3697 - val_accuracy: 0.8459\n",
            "Epoch 24/100\n",
            "536/536 [==============================] - 1s 2ms/step - loss: 0.3527 - accuracy: 0.8535 - val_loss: 0.4086 - val_accuracy: 0.8519\n",
            "Epoch 25/100\n",
            "536/536 [==============================] - 1s 2ms/step - loss: 0.3503 - accuracy: 0.8526 - val_loss: 0.3819 - val_accuracy: 0.8542\n",
            "Epoch 25: early stopping\n"
          ]
        }
      ]
    },
    {
      "cell_type": "code",
      "source": [
        "plt.plot(model_history.history['accuracy'])\n",
        "plt.plot(model_history.history['val_accuracy'])\n",
        "plt.title('Model Accuracy')\n",
        "plt.xlabel('Epochs')\n",
        "plt.ylabel('Accuracy')\n",
        "plt.legend(['Train','Test'], loc='upper left')"
      ],
      "metadata": {
        "colab": {
          "base_uri": "https://localhost:8080/",
          "height": 313
        },
        "id": "R0-ABLjtaekk",
        "outputId": "2f8a3c37-c8a6-4fd9-b97b-a54ae14f8796"
      },
      "execution_count": null,
      "outputs": [
        {
          "output_type": "execute_result",
          "data": {
            "text/plain": [
              "<matplotlib.legend.Legend at 0x7f2792727d50>"
            ]
          },
          "metadata": {},
          "execution_count": 132
        },
        {
          "output_type": "display_data",
          "data": {
            "text/plain": [
              "<Figure size 432x288 with 1 Axes>"
            ],
            "image/png": "[encoded data removed]"
          },
          "metadata": {
            "needs_background": "light"
          }
        }
      ]
    },
    {
      "cell_type": "code",
      "source": [
        "plt.plot(model_history.history['loss'])\n",
        "plt.plot(model_history.history['val_loss'])\n",
        "plt.title('Model Loss')\n",
        "plt.xlabel('Epochs')\n",
        "plt.ylabel('Loss')\n",
        "plt.legend(['Train','Test'], loc='upper left')"
      ],
      "metadata": {
        "colab": {
          "base_uri": "https://localhost:8080/",
          "height": 313
        },
        "id": "c8V3_SfbauBw",
        "outputId": "9354b76a-5183-4ed7-d164-4005f6dbc19c"
      },
      "execution_count": null,
      "outputs": [
        {
          "output_type": "execute_result",
          "data": {
            "text/plain": [
              "<matplotlib.legend.Legend at 0x7f2792714c90>"
            ]
          },
          "metadata": {},
          "execution_count": 133
        },
        {
          "output_type": "display_data",
          "data": {
            "text/plain": [
              "<Figure size 432x288 with 1 Axes>"
            ],
            "image/png": "[encoded data removed]"
          },
          "metadata": {
            "needs_background": "light"
          }
        }
      ]
    },
    {
      "cell_type": "code",
      "source": [
        "y_test_pred = classifier.predict(X_test_scaled)\n",
        "y_test_pred"
      ],
      "metadata": {
        "colab": {
          "base_uri": "https://localhost:8080/"
        },
        "id": "tRExrnmwazym",
        "outputId": "9dd720b2-aa8d-49eb-9539-c02b85227c7b"
      },
      "execution_count": null,
      "outputs": [
        {
          "output_type": "execute_result",
          "data": {
            "text/plain": [
              "array([[0.83278775],\n",
              "       [0.41870922],\n",
              "       [0.19152927],\n",
              "       ...,\n",
              "       [0.1523656 ],\n",
              "       [0.15994045],\n",
              "       [0.13936183]], dtype=float32)"
            ]
          },
          "metadata": {},
          "execution_count": 176
        }
      ]
    },
    {
      "cell_type": "code",
      "source": [
        "# y_test_pred = (y_test_pred >= 0.5)\n",
        "# y_test_pred"
      ],
      "metadata": {
        "id": "t_ktMynXqEVF"
      },
      "execution_count": null,
      "outputs": []
    },
    {
      "cell_type": "code",
      "source": [
        "y_test_pred = np.where(y_test_pred >= 0.7, 1, 0)\n",
        "y_test_pred"
      ],
      "metadata": {
        "colab": {
          "base_uri": "https://localhost:8080/"
        },
        "id": "FX5LgVIbbHEZ",
        "outputId": "430d8443-e4a9-4530-9e62-28770511f5aa"
      },
      "execution_count": null,
      "outputs": [
        {
          "output_type": "execute_result",
          "data": {
            "text/plain": [
              "array([[1],\n",
              "       [0],\n",
              "       [0],\n",
              "       ...,\n",
              "       [0],\n",
              "       [0],\n",
              "       [0]])"
            ]
          },
          "metadata": {},
          "execution_count": 178
        }
      ]
    },
    {
      "cell_type": "code",
      "source": [
        "y_test_pred.shape"
      ],
      "metadata": {
        "colab": {
          "base_uri": "https://localhost:8080/"
        },
        "id": "lDL-xsXBrMHH",
        "outputId": "de2ed9f4-d271-4871-d9de-040aaaf95077"
      },
      "execution_count": null,
      "outputs": [
        {
          "output_type": "execute_result",
          "data": {
            "text/plain": [
              "(2000, 1)"
            ]
          },
          "metadata": {},
          "execution_count": 179
        }
      ]
    },
    {
      "cell_type": "code",
      "source": [
        "# Converting 2D array to 1D array\n",
        "y_test_pred = np.reshape(y_test_pred, y_test_pred.shape[0])\n",
        "y_test_pred"
      ],
      "metadata": {
        "colab": {
          "base_uri": "https://localhost:8080/"
        },
        "id": "2YcGQxxoqwEX",
        "outputId": "9cfe09cf-4a22-4adf-a0c5-b49cd560e0c3"
      },
      "execution_count": null,
      "outputs": [
        {
          "output_type": "execute_result",
          "data": {
            "text/plain": [
              "array([1, 0, 0, ..., 0, 0, 0])"
            ]
          },
          "metadata": {},
          "execution_count": 180
        }
      ]
    },
    {
      "cell_type": "code",
      "source": [
        "y_test.values"
      ],
      "metadata": {
        "colab": {
          "base_uri": "https://localhost:8080/"
        },
        "id": "NDz51LZAbXrr",
        "outputId": "34da0956-6193-47f4-f9bc-34175dc3ee8d"
      },
      "execution_count": null,
      "outputs": [
        {
          "output_type": "execute_result",
          "data": {
            "text/plain": [
              "array([1, 0, 1, ..., 0, 0, 0])"
            ]
          },
          "metadata": {},
          "execution_count": 181
        }
      ]
    },
    {
      "cell_type": "code",
      "source": [
        "from sklearn.metrics import confusion_matrix, classification_report, accuracy_score\n",
        "import seaborn as sns"
      ],
      "metadata": {
        "id": "hlRd6S49bZHc"
      },
      "execution_count": null,
      "outputs": []
    },
    {
      "cell_type": "code",
      "source": [
        "cm = confusion_matrix(y_test, y_test_pred)\n",
        "sns.heatmap(cm, annot=True, fmt='g')"
      ],
      "metadata": {
        "colab": {
          "base_uri": "https://localhost:8080/",
          "height": 283
        },
        "id": "JuIfcbenblcV",
        "outputId": "88592b04-58af-40f2-ea97-e164930928f7"
      },
      "execution_count": null,
      "outputs": [
        {
          "output_type": "execute_result",
          "data": {
            "text/plain": [
              "<matplotlib.axes._subplots.AxesSubplot at 0x7f2792e7a850>"
            ]
          },
          "metadata": {},
          "execution_count": 183
        },
        {
          "output_type": "display_data",
          "data": {
            "text/plain": [
              "<Figure size 432x288 with 2 Axes>"
            ],
            "image/png": "[encoded data removed]"
          },
          "metadata": {
            "needs_background": "light"
          }
        }
      ]
    },
    {
      "cell_type": "code",
      "source": [
        "report = classification_report(y_test, y_test_pred)\n",
        "print(report)"
      ],
      "metadata": {
        "colab": {
          "base_uri": "https://localhost:8080/"
        },
        "id": "iSani6S-cC0j",
        "outputId": "0475103b-26e0-4e5b-acf5-67a251e595be"
      },
      "execution_count": null,
      "outputs": [
        {
          "output_type": "stream",
          "name": "stdout",
          "text": [
            "              precision    recall  f1-score   support\n",
            "\n",
            "           0       0.84      0.99      0.91      1593\n",
            "           1       0.87      0.25      0.38       407\n",
            "\n",
            "    accuracy                           0.84      2000\n",
            "   macro avg       0.85      0.62      0.65      2000\n",
            "weighted avg       0.84      0.84      0.80      2000\n",
            "\n"
          ]
        }
      ]
    },
    {
      "cell_type": "code",
      "source": [
        "acc = accuracy_score(y_test, y_test_pred)\n",
        "print(acc)"
      ],
      "metadata": {
        "colab": {
          "base_uri": "https://localhost:8080/"
        },
        "id": "RRvZHxtxceiy",
        "outputId": "6a2e6470-71a1-459e-b5c2-3c4bbad2b4a6"
      },
      "execution_count": null,
      "outputs": [
        {
          "output_type": "stream",
          "name": "stdout",
          "text": [
            "0.839\n"
          ]
        }
      ]
    },
    {
      "cell_type": "code",
      "source": [
        "# Classifier weights values\n",
        "print(classifier.get_weights())"
      ],
      "metadata": {
        "colab": {
          "base_uri": "https://localhost:8080/"
        },
        "id": "VCPJ237AczDk",
        "outputId": "f4770d31-9480-4718-8be9-beb6ee030c7b"
      },
      "execution_count": null,
      "outputs": [
        {
          "output_type": "stream",
          "name": "stdout",
          "text": [
            "[array([[-1.43479991e+00,  4.79655653e-01,  6.93265438e-01,\n",
            "        -6.11476660e-01, -3.53307158e-01,  5.86153567e-01,\n",
            "         8.67824256e-01, -4.21831906e-01,  5.23857951e-01,\n",
            "         1.64779857e-01, -1.38385201e+00],\n",
            "       [ 2.22129479e-01, -3.88446236e+00,  2.15851736e+00,\n",
            "         2.73642015e+00, -2.01028180e+00,  2.18802834e+00,\n",
            "        -1.42165291e+00,  1.77855015e+00, -1.10917175e+00,\n",
            "         6.57496274e-01, -2.30134916e+00],\n",
            "       [ 4.48440790e-01,  3.53860468e-01, -1.19455181e-01,\n",
            "        -4.26636100e-01,  7.17348456e-02,  5.25771439e-01,\n",
            "         1.25112903e+00, -6.78468049e-01, -6.54633164e-01,\n",
            "        -6.53296769e-01, -5.11227429e-01],\n",
            "       [ 6.40659571e-01,  1.54990494e+00,  1.82883769e-01,\n",
            "         7.56331921e-01, -3.93942904e+00, -9.30068314e-01,\n",
            "        -1.01912355e+00, -1.04622555e+00,  8.03110540e-01,\n",
            "         1.32397449e+00,  2.11458921e+00],\n",
            "       [ 3.30735421e+00, -4.03143942e-01, -4.10110593e-01,\n",
            "         2.95292586e-01,  1.08430910e+00, -8.55989289e-03,\n",
            "         1.60702074e+00, -4.55154800e+00,  7.34582424e-01,\n",
            "         4.83561230e+00,  6.25534236e-01],\n",
            "       [-2.17106584e-02,  7.60145247e-01,  8.03794086e-01,\n",
            "         6.95992112e-01,  4.58333313e-01,  1.06558955e+00,\n",
            "        -2.53886525e-02,  9.21565294e-01,  1.21276438e+00,\n",
            "         6.57207489e-01,  4.59235340e-01],\n",
            "       [-3.11471730e-01, -5.72398961e-01, -1.79924428e+00,\n",
            "         2.06211066e+00, -2.50852078e-01,  1.25100780e+00,\n",
            "        -1.57131517e+00, -1.28067672e+00,  1.72164178e+00,\n",
            "         4.63270903e-01,  2.31288031e-01],\n",
            "       [ 2.00026035e+00,  2.90289242e-02,  7.56584406e-01,\n",
            "        -8.72669369e-02,  8.68118882e-01, -5.08584119e-02,\n",
            "        -1.39806771e+00, -1.74230322e-01,  6.61736012e-01,\n",
            "        -6.90908492e-01, -1.29222488e+00],\n",
            "       [-5.03665626e-01, -4.96297657e-01, -2.36744761e+00,\n",
            "        -2.71857858e-01,  3.19459558e+00,  1.63552389e-01,\n",
            "        -1.24995697e+00,  2.41720176e+00, -8.18763316e-01,\n",
            "        -4.54877526e-01,  1.07162245e-01],\n",
            "       [-7.01449633e-01, -2.80969650e-01,  6.28436625e-01,\n",
            "        -2.03626975e-01, -2.52966094e-03,  8.68283749e-01,\n",
            "        -8.21536720e-01, -6.44722998e-01, -1.67063251e-01,\n",
            "         9.39395931e-03,  4.91469890e-01],\n",
            "       [-4.35613126e-01,  2.60170788e-01, -7.04205334e-01,\n",
            "         1.56342542e+00,  3.14209849e-01, -1.17098856e+00,\n",
            "         1.60278487e+00, -6.10458314e-01,  1.36435354e+00,\n",
            "         5.94913475e-02, -4.52271700e-01]], dtype=float32), array([-5.262886 ,  3.556035 , -4.113201 , -4.492773 , -1.573275 ,\n",
            "       -5.5104847, -5.1013865,  1.0571849, -1.4796077, -4.931581 ,\n",
            "       -3.7292063], dtype=float32), array([[-3.9546709e+00, -2.9546266e+00,  1.9116981e+00, -1.5551460e+00,\n",
            "        -1.5739781e+00,  2.0832036e+00, -1.3784992e+00],\n",
            "       [-3.0412954e-01,  1.9500348e-01, -1.4728223e+00, -8.3810687e-01,\n",
            "        -8.8752812e-01, -1.8963506e+00, -1.4124371e+00],\n",
            "       [-7.2392553e-01, -1.0117061e+00,  1.3689327e+00,  2.5111437e-01,\n",
            "         1.3202500e-01,  1.5004700e+00, -7.9411820e-02],\n",
            "       [ 2.4200022e-01, -8.4586054e-01, -2.6298833e+00,  8.1057322e-01,\n",
            "         6.5792596e-01, -3.5661130e+00, -1.7501303e+00],\n",
            "       [ 3.8394454e-01, -5.1883643e-04, -1.2520176e+00,  1.5578743e+00,\n",
            "         1.9082122e+00, -1.0155326e+00, -3.7909873e+00],\n",
            "       [ 2.9880476e+00,  2.1731553e+00, -4.1883488e+00,  8.8288170e-01,\n",
            "         1.2215866e+00, -2.4140556e+00, -2.4998326e+00],\n",
            "       [ 3.4327109e+00,  1.9489197e+00, -4.8515478e-01,  3.2094967e+00,\n",
            "         2.7432435e+00, -1.2822810e+00, -1.6740521e+00],\n",
            "       [-3.2994442e+00, -9.3728435e-01,  1.3060315e+00, -2.2924721e+00,\n",
            "        -1.4600722e-01,  6.8242818e-01,  1.2877908e+00],\n",
            "       [ 3.4094319e-01,  5.0054848e-01, -5.4055136e-01,  6.0997105e-01,\n",
            "         2.7207315e-01,  2.2232218e-01, -1.3585023e+00],\n",
            "       [-3.7164567e+00, -1.3442328e+00,  2.8708718e+00, -3.6469190e+00,\n",
            "        -1.5678463e+00,  2.9738932e+00, -9.3810582e-01],\n",
            "       [ 9.1693622e-01,  2.6142490e-01,  1.4231273e+00, -1.6022065e+00,\n",
            "        -5.7545990e-01,  2.0196193e-01, -1.8792275e+00]], dtype=float32), array([ 0.5424457,  1.0021483, -0.8415776, -1.6676463, -2.0488746,\n",
            "       -1.1818222,  0.5262633], dtype=float32), array([[ 0.23988171, -1.1090349 ,  0.29277053,  0.19256121, -2.0500062 ,\n",
            "         0.17375185],\n",
            "       [ 0.17943746, -1.7739502 ,  0.08570554,  0.18247236, -1.251903  ,\n",
            "         0.28413606],\n",
            "       [-0.47680545,  0.8243549 , -0.6000349 , -3.5072043 , -0.1671109 ,\n",
            "        -1.0611019 ],\n",
            "       [ 0.5623738 , -1.4388363 ,  0.5593478 ,  0.4176746 , -1.798278  ,\n",
            "         0.46789524],\n",
            "       [ 0.4923134 , -0.9673665 ,  0.14446051,  0.19278169, -0.56153786,\n",
            "         0.22789107],\n",
            "       [-2.9622152 , -0.4469812 , -0.9888357 , -2.843113  ,  0.618112  ,\n",
            "        -2.4274614 ],\n",
            "       [-0.252066  , -0.06239229, -2.5549424 , -0.25950825,  0.38416943,\n",
            "        -2.5129638 ]], dtype=float32), array([ 0.95080256, -3.116168  ,  0.74485224,  0.8762058 , -0.06847476,\n",
            "        0.93086237], dtype=float32), array([[-0.24503538],\n",
            "       [ 0.13537277],\n",
            "       [-0.20255405],\n",
            "       [-0.202386  ],\n",
            "       [ 0.1642926 ],\n",
            "       [-0.28446192]], dtype=float32), array([-0.614124], dtype=float32)]\n"
          ]
        }
      ]
    },
    {
      "cell_type": "code",
      "source": [
        "classifier.save('Churn_Model.h5')"
      ],
      "metadata": {
        "id": "IuA0mQDsdGnM"
      },
      "execution_count": null,
      "outputs": []
    },
    {
      "cell_type": "code",
      "source": [],
      "metadata": {
        "id": "7DLYEMPmiu2B"
      },
      "execution_count": null,
      "outputs": []
    }
  ]
}