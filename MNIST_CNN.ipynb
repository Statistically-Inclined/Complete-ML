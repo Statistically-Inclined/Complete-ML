{
  "nbformat": 4,
  "nbformat_minor": 0,
  "metadata": {
    "colab": {
      "provenance": [],
      "collapsed_sections": [],
      "authorship_tag": "ABX9TyMQHLfszr0z28DT6k71aQQX",
      "include_colab_link": true
    },
    "kernelspec": {
      "name": "python3",
      "display_name": "Python 3"
    },
    "language_info": {
      "name": "python"
    }
  },
  "cells": [
    {
      "cell_type": "markdown",
      "metadata": {
        "id": "view-in-github",
        "colab_type": "text"
      },
      "source": [
        "<a href=\"https://colab.research.google.com/github/Statistically-Inclined/Complete-ML/blob/main/MNIST_CNN.ipynb\" target=\"_parent\"><img src=\"https://colab.research.google.com/assets/colab-badge.svg\" alt=\"Open In Colab\"/></a>"
      ]
    },
    {
      "cell_type": "markdown",
      "source": [
        "### Importing Libraries"
      ],
      "metadata": {
        "id": "zhDUa808dFqT"
      }
    },
    {
      "cell_type": "code",
      "source": [
        "import numpy as np\n",
        "from keras.datasets import mnist\n",
        "from keras.models import Sequential\n",
        "from keras.layers import Conv2D\n",
        "from keras.layers import MaxPool2D\n",
        "from keras.layers import Flatten\n",
        "from keras.layers import Dropout\n",
        "from keras.layers import Dense\n",
        "from keras.models import load_model\n",
        "from keras.callbacks import EarlyStopping\n",
        "from keras.callbacks import ModelCheckpoint"
      ],
      "metadata": {
        "id": "SmJVq1ALdIwo"
      },
      "execution_count": 27,
      "outputs": []
    },
    {
      "cell_type": "markdown",
      "source": [
        "Load MNIST Dataset"
      ],
      "metadata": {
        "id": "4AQwSWioeKxf"
      }
    },
    {
      "cell_type": "code",
      "source": [
        "(X_train, y_train), (X_test, y_test) = mnist.load_data()"
      ],
      "metadata": {
        "colab": {
          "base_uri": "https://localhost:8080/"
        },
        "id": "_qQZOGTeeKSv",
        "outputId": "44c28d60-812d-421d-a83b-e53b321cf86f"
      },
      "execution_count": 2,
      "outputs": [
        {
          "output_type": "stream",
          "name": "stdout",
          "text": [
            "Downloading data from https://storage.googleapis.com/tensorflow/tf-keras-datasets/mnist.npz\n",
            "11493376/11490434 [==============================] - 0s 0us/step\n",
            "11501568/11490434 [==============================] - 0s 0us/step\n"
          ]
        }
      ]
    },
    {
      "cell_type": "code",
      "source": [
        "print(X_train.shape, y_train.shape, X_test.shape, y_test.shape)"
      ],
      "metadata": {
        "colab": {
          "base_uri": "https://localhost:8080/"
        },
        "id": "njYrSirGdI2K",
        "outputId": "775d7818-4b5b-4394-d69f-2f09e5f6b615"
      },
      "execution_count": 3,
      "outputs": [
        {
          "output_type": "stream",
          "name": "stdout",
          "text": [
            "(60000, 28, 28) (60000,) (10000, 28, 28) (10000,)\n"
          ]
        }
      ]
    },
    {
      "cell_type": "markdown",
      "source": [
        "### Reshaping the dataset"
      ],
      "metadata": {
        "id": "YmaJypBEf9bx"
      }
    },
    {
      "cell_type": "code",
      "source": [
        "X_train = X_train.reshape((60000,28,28,1))\n",
        "X_test = X_test.reshape((10000,28,28,1))"
      ],
      "metadata": {
        "id": "0OUKP18IeH2Z"
      },
      "execution_count": 4,
      "outputs": []
    },
    {
      "cell_type": "code",
      "source": [
        "print(X_train.shape, y_train.shape, X_test.shape, y_test.shape)"
      ],
      "metadata": {
        "colab": {
          "base_uri": "https://localhost:8080/"
        },
        "id": "5TJpMpYAdI49",
        "outputId": "f480c9bb-65fa-464f-a6b3-4328c386ed02"
      },
      "execution_count": 5,
      "outputs": [
        {
          "output_type": "stream",
          "name": "stdout",
          "text": [
            "(60000, 28, 28, 1) (60000,) (10000, 28, 28, 1) (10000,)\n"
          ]
        }
      ]
    },
    {
      "cell_type": "markdown",
      "source": [
        "### Normalization"
      ],
      "metadata": {
        "id": "R6QdXsK_gsLe"
      }
    },
    {
      "cell_type": "code",
      "source": [
        "X_train = X_train/255\n",
        "X_test = X_test/255"
      ],
      "metadata": {
        "id": "lY-BUYoSgUzk"
      },
      "execution_count": 6,
      "outputs": []
    },
    {
      "cell_type": "markdown",
      "source": [
        "### CNN Model"
      ],
      "metadata": {
        "id": "6-7CVvJUg46f"
      }
    },
    {
      "cell_type": "code",
      "source": [
        "# defining model\n",
        "model=Sequential()\n",
        "\n",
        "# adding convolution layer\n",
        "model.add(Conv2D(32, (3,3), activation='relu', input_shape=(28,28,1)))\n",
        "\n",
        "# adding pooling layer\n",
        "model.add(MaxPool2D(2,2))\n",
        "\n",
        "# adding fully connected layer\n",
        "model.add(Flatten())\n",
        "model.add(Dense(100, activation='relu'))\n",
        "\n",
        "# adding output layer\n",
        "model.add(Dense(10,activation='softmax'))\n",
        "\n",
        "# compiling the model\n",
        "model.compile(loss='sparse_categorical_crossentropy',optimizer='adam',metrics=['accuracy'])"
      ],
      "metadata": {
        "id": "7CHWFuE6gU2e"
      },
      "execution_count": 24,
      "outputs": []
    },
    {
      "cell_type": "code",
      "source": [
        "# summary\n",
        "model.summary()"
      ],
      "metadata": {
        "colab": {
          "base_uri": "https://localhost:8080/"
        },
        "id": "1JX0ko-j-rJb",
        "outputId": "597ba1af-06c5-40dd-f984-c8adbf6dd46c"
      },
      "execution_count": 25,
      "outputs": [
        {
          "output_type": "stream",
          "name": "stdout",
          "text": [
            "Model: \"sequential_1\"\n",
            "_________________________________________________________________\n",
            " Layer (type)                Output Shape              Param #   \n",
            "=================================================================\n",
            " conv2d_1 (Conv2D)           (None, 26, 26, 32)        320       \n",
            "                                                                 \n",
            " max_pooling2d_1 (MaxPooling  (None, 13, 13, 32)       0         \n",
            " 2D)                                                             \n",
            "                                                                 \n",
            " flatten_1 (Flatten)         (None, 5408)              0         \n",
            "                                                                 \n",
            " dense_2 (Dense)             (None, 100)               540900    \n",
            "                                                                 \n",
            " dense_3 (Dense)             (None, 10)                1010      \n",
            "                                                                 \n",
            "=================================================================\n",
            "Total params: 542,230\n",
            "Trainable params: 542,230\n",
            "Non-trainable params: 0\n",
            "_________________________________________________________________\n"
          ]
        }
      ]
    },
    {
      "cell_type": "code",
      "source": [
        "# compiling the model\n",
        "model.compile(loss='sparse_categorical_crossentropy',optimizer='adam',metrics=['accuracy'])"
      ],
      "metadata": {
        "id": "hPE0NkqN-1wU"
      },
      "execution_count": 32,
      "outputs": []
    },
    {
      "cell_type": "code",
      "source": [
        "# Save the best weights\n",
        "model_checkpoint = ModelCheckpoint(filepath=\"MNIST_Model.h5\", verbose=1, save_best_only=True)"
      ],
      "metadata": {
        "id": "vhCZOMMb-1zA"
      },
      "execution_count": 33,
      "outputs": []
    },
    {
      "cell_type": "code",
      "source": [
        "# Early stoppings\n",
        "callbacks = EarlyStopping(monitor='val_loss', mode='min', verbose=1, patience=3)"
      ],
      "metadata": {
        "id": "C08uMp3C-11c"
      },
      "execution_count": 34,
      "outputs": []
    },
    {
      "cell_type": "code",
      "source": [
        "history = model.fit(X_train, y_train, validation_split=0.1, batch_size=100, epochs=30, callbacks=[callbacks, model_checkpoint]) "
      ],
      "metadata": {
        "colab": {
          "base_uri": "https://localhost:8080/"
        },
        "id": "a9Lt48F4-rMN",
        "outputId": "f87d1a4a-d2e7-4b3f-cd9a-c9aefcd3fadd"
      },
      "execution_count": 35,
      "outputs": [
        {
          "output_type": "stream",
          "name": "stdout",
          "text": [
            "Epoch 1/30\n",
            "540/540 [==============================] - ETA: 0s - loss: 0.2164 - accuracy: 0.9380\n",
            "Epoch 1: val_loss improved from inf to 0.07757, saving model to MNIST_Model.h5\n",
            "540/540 [==============================] - 25s 45ms/step - loss: 0.2164 - accuracy: 0.9380 - val_loss: 0.0776 - val_accuracy: 0.9788\n",
            "Epoch 2/30\n",
            "540/540 [==============================] - ETA: 0s - loss: 0.0705 - accuracy: 0.9790\n",
            "Epoch 2: val_loss improved from 0.07757 to 0.05983, saving model to MNIST_Model.h5\n",
            "540/540 [==============================] - 29s 54ms/step - loss: 0.0705 - accuracy: 0.9790 - val_loss: 0.0598 - val_accuracy: 0.9842\n",
            "Epoch 3/30\n",
            "539/540 [============================>.] - ETA: 0s - loss: 0.0476 - accuracy: 0.9854\n",
            "Epoch 3: val_loss improved from 0.05983 to 0.05863, saving model to MNIST_Model.h5\n",
            "540/540 [==============================] - 26s 48ms/step - loss: 0.0477 - accuracy: 0.9854 - val_loss: 0.0586 - val_accuracy: 0.9833\n",
            "Epoch 4/30\n",
            "540/540 [==============================] - ETA: 0s - loss: 0.0346 - accuracy: 0.9897\n",
            "Epoch 4: val_loss improved from 0.05863 to 0.04891, saving model to MNIST_Model.h5\n",
            "540/540 [==============================] - 23s 43ms/step - loss: 0.0346 - accuracy: 0.9897 - val_loss: 0.0489 - val_accuracy: 0.9865\n",
            "Epoch 5/30\n",
            "539/540 [============================>.] - ETA: 0s - loss: 0.0258 - accuracy: 0.9925\n",
            "Epoch 5: val_loss improved from 0.04891 to 0.04684, saving model to MNIST_Model.h5\n",
            "540/540 [==============================] - 23s 43ms/step - loss: 0.0257 - accuracy: 0.9925 - val_loss: 0.0468 - val_accuracy: 0.9883\n",
            "Epoch 6/30\n",
            "539/540 [============================>.] - ETA: 0s - loss: 0.0203 - accuracy: 0.9937\n",
            "Epoch 6: val_loss did not improve from 0.04684\n",
            "540/540 [==============================] - 24s 44ms/step - loss: 0.0203 - accuracy: 0.9937 - val_loss: 0.0529 - val_accuracy: 0.9867\n",
            "Epoch 7/30\n",
            "539/540 [============================>.] - ETA: 0s - loss: 0.0152 - accuracy: 0.9951\n",
            "Epoch 7: val_loss did not improve from 0.04684\n",
            "540/540 [==============================] - 23s 43ms/step - loss: 0.0152 - accuracy: 0.9951 - val_loss: 0.0471 - val_accuracy: 0.9890\n",
            "Epoch 8/30\n",
            "539/540 [============================>.] - ETA: 0s - loss: 0.0109 - accuracy: 0.9971\n",
            "Epoch 8: val_loss did not improve from 0.04684\n",
            "540/540 [==============================] - 23s 43ms/step - loss: 0.0109 - accuracy: 0.9971 - val_loss: 0.0552 - val_accuracy: 0.9867\n",
            "Epoch 8: early stopping\n"
          ]
        }
      ]
    },
    {
      "cell_type": "code",
      "source": [
        "plt.plot(history.history['accuracy'])\n",
        "plt.plot(history.history['val_accuracy'])\n",
        "plt.title('model accuracy')\n",
        "plt.ylabel('accuracy')\n",
        "plt.xlabel('epoch')\n",
        "plt.legend(['train', 'test'], loc='upper left')\n",
        "plt.show()"
      ],
      "metadata": {
        "colab": {
          "base_uri": "https://localhost:8080/",
          "height": 295
        },
        "id": "AdyrJe5RBffS",
        "outputId": "709ac728-6089-4cf8-e523-3abd8a8d3b2a"
      },
      "execution_count": 47,
      "outputs": [
        {
          "output_type": "display_data",
          "data": {
            "text/plain": [
              "<Figure size 432x288 with 1 Axes>"
            ],
            "image/png": "[encoded data removed]"
          },
          "metadata": {
            "needs_background": "light"
          }
        }
      ]
    },
    {
      "cell_type": "code",
      "source": [
        "plt.plot(history.history['loss'])\n",
        "plt.plot(history.history['val_loss'])\n",
        "plt.title('model loss')\n",
        "plt.ylabel('loss')\n",
        "plt.xlabel('epoch')\n",
        "plt.legend(['train', 'test'], loc='upper left')\n",
        "plt.show()"
      ],
      "metadata": {
        "colab": {
          "base_uri": "https://localhost:8080/",
          "height": 295
        },
        "id": "RaMha6t_BioC",
        "outputId": "29034192-d6ef-419c-cabe-1be284bbc9cc"
      },
      "execution_count": 48,
      "outputs": [
        {
          "output_type": "display_data",
          "data": {
            "text/plain": [
              "<Figure size 432x288 with 1 Axes>"
            ],
            "image/png": "[encoded data removed]"
          },
          "metadata": {
            "needs_background": "light"
          }
        }
      ]
    },
    {
      "cell_type": "code",
      "source": [
        "model = load_model('MNIST_Model.h5')"
      ],
      "metadata": {
        "id": "JtWusZ-b__l_"
      },
      "execution_count": 37,
      "outputs": []
    },
    {
      "cell_type": "code",
      "source": [
        "y_test_pred = model.predict(X_test)"
      ],
      "metadata": {
        "id": "dFPioeTpibOu"
      },
      "execution_count": 38,
      "outputs": []
    },
    {
      "cell_type": "code",
      "source": [
        "y_test_pred"
      ],
      "metadata": {
        "colab": {
          "base_uri": "https://localhost:8080/"
        },
        "id": "8O0y19yribQ_",
        "outputId": "acd45cc9-c3cf-42c2-d777-bc6f12323637"
      },
      "execution_count": 39,
      "outputs": [
        {
          "output_type": "execute_result",
          "data": {
            "text/plain": [
              "array([[1.1255697e-10, 1.1478385e-08, 3.7500463e-08, ..., 9.9999869e-01,\n",
              "        1.7815513e-08, 7.0793611e-09],\n",
              "       [1.8216784e-06, 4.2778640e-05, 9.9994028e-01, ..., 2.0089457e-08,\n",
              "        5.3274323e-07, 1.8925601e-09],\n",
              "       [4.9056769e-05, 9.9929798e-01, 1.4899999e-05, ..., 1.6826260e-04,\n",
              "        2.6486348e-04, 1.6015906e-06],\n",
              "       ...,\n",
              "       [1.2033381e-12, 2.9155134e-09, 5.2480511e-12, ..., 6.2805839e-07,\n",
              "        1.2986484e-06, 5.5085491e-07],\n",
              "       [1.4678596e-08, 1.5524328e-10, 1.3892050e-10, ..., 1.6016557e-08,\n",
              "        3.9873354e-04, 4.3166665e-08],\n",
              "       [4.0049550e-09, 2.3472663e-13, 9.6436792e-10, ..., 1.8549758e-12,\n",
              "        1.2397973e-07, 9.4421120e-12]], dtype=float32)"
            ]
          },
          "metadata": {},
          "execution_count": 39
        }
      ]
    },
    {
      "cell_type": "code",
      "source": [
        "y_test_pred = np.argmax(y_test_pred, axis=1)\n",
        "y_test_pred"
      ],
      "metadata": {
        "colab": {
          "base_uri": "https://localhost:8080/"
        },
        "id": "eUorQXVgmAUb",
        "outputId": "e0c5c648-6c0c-4d30-8400-758aeff6f5d1"
      },
      "execution_count": 40,
      "outputs": [
        {
          "output_type": "execute_result",
          "data": {
            "text/plain": [
              "array([7, 2, 1, ..., 4, 5, 6])"
            ]
          },
          "metadata": {},
          "execution_count": 40
        }
      ]
    },
    {
      "cell_type": "code",
      "source": [
        "y_test"
      ],
      "metadata": {
        "colab": {
          "base_uri": "https://localhost:8080/"
        },
        "id": "5GNBPJ9ooT4e",
        "outputId": "0bd5345c-3dd7-488e-ef0c-d1f792aec458"
      },
      "execution_count": 41,
      "outputs": [
        {
          "output_type": "execute_result",
          "data": {
            "text/plain": [
              "array([7, 2, 1, ..., 4, 5, 6], dtype=uint8)"
            ]
          },
          "metadata": {},
          "execution_count": 41
        }
      ]
    },
    {
      "cell_type": "code",
      "source": [
        "print(y_test.shape, y_test_pred.shape)"
      ],
      "metadata": {
        "colab": {
          "base_uri": "https://localhost:8080/"
        },
        "id": "onsvc2N5ofDA",
        "outputId": "84458799-079d-4dc8-fec9-d217d719429b"
      },
      "execution_count": 42,
      "outputs": [
        {
          "output_type": "stream",
          "name": "stdout",
          "text": [
            "(10000,) (10000,)\n"
          ]
        }
      ]
    },
    {
      "cell_type": "code",
      "source": [
        "# evaluting the model\n",
        "score = model.evaluate(X_test, y_test, verbose=0)\n",
        "print(\"Test Loss:\",score[0])\n",
        "print(\"Test Accuracy:\",score[1])"
      ],
      "metadata": {
        "colab": {
          "base_uri": "https://localhost:8080/"
        },
        "id": "ExksqHCNgU61",
        "outputId": "c8c28ac4-bd1a-4c13-a21d-edfad62ccb75"
      },
      "execution_count": 43,
      "outputs": [
        {
          "output_type": "stream",
          "name": "stdout",
          "text": [
            "Test Loss: 0.04360981285572052\n",
            "Test Accuracy: 0.9857000112533569\n"
          ]
        }
      ]
    },
    {
      "cell_type": "code",
      "source": [
        "import seaborn as sns\n",
        "import matplotlib.pyplot as plt\n",
        "from sklearn.metrics import confusion_matrix, classification_report, accuracy_score"
      ],
      "metadata": {
        "id": "1x4LIOwKkbJd"
      },
      "execution_count": 44,
      "outputs": []
    },
    {
      "cell_type": "code",
      "source": [
        "cm = confusion_matrix(y_test, y_test_pred)\n",
        "plt.figure(figsize=(10,7))\n",
        "sns.heatmap(cm, annot=True, fmt='g')"
      ],
      "metadata": {
        "colab": {
          "base_uri": "https://localhost:8080/",
          "height": 446
        },
        "id": "8Fg9gcvOkDiF",
        "outputId": "2c098b47-c2c6-4bf3-81a1-4b83d2b9f4c1"
      },
      "execution_count": 45,
      "outputs": [
        {
          "output_type": "execute_result",
          "data": {
            "text/plain": [
              "<matplotlib.axes._subplots.AxesSubplot at 0x7f591e296f90>"
            ]
          },
          "metadata": {},
          "execution_count": 45
        },
        {
          "output_type": "display_data",
          "data": {
            "text/plain": [
              "<Figure size 720x504 with 2 Axes>"
            ],
            "image/png": "[encoded data removed]"
          },
          "metadata": {
            "needs_background": "light"
          }
        }
      ]
    },
    {
      "cell_type": "code",
      "source": [
        "accuracy = accuracy_score(y_test, y_test_pred)\n",
        "class_report = classification_report(y_test, y_test_pred)\n",
        "print('accuracy:', accuracy)\n",
        "print('\\nclassification report:\\n', class_report)"
      ],
      "metadata": {
        "colab": {
          "base_uri": "https://localhost:8080/"
        },
        "id": "Z1-MVzw6kvs-",
        "outputId": "d789497c-0374-4ce3-bc0f-2d959b5d0ed2"
      },
      "execution_count": 46,
      "outputs": [
        {
          "output_type": "stream",
          "name": "stdout",
          "text": [
            "accuracy: 0.9857\n",
            "\n",
            "classification report:\n",
            "               precision    recall  f1-score   support\n",
            "\n",
            "           0       0.98      1.00      0.99       980\n",
            "           1       0.99      0.99      0.99      1135\n",
            "           2       0.99      0.98      0.98      1032\n",
            "           3       0.99      0.99      0.99      1010\n",
            "           4       0.99      0.99      0.99       982\n",
            "           5       0.99      0.98      0.99       892\n",
            "           6       0.99      0.98      0.99       958\n",
            "           7       0.97      0.99      0.98      1028\n",
            "           8       0.98      0.97      0.98       974\n",
            "           9       0.99      0.97      0.98      1009\n",
            "\n",
            "    accuracy                           0.99     10000\n",
            "   macro avg       0.99      0.99      0.99     10000\n",
            "weighted avg       0.99      0.99      0.99     10000\n",
            "\n"
          ]
        }
      ]
    }
  ]
}